{
 "cells": [
  {
   "cell_type": "markdown",
   "metadata": {},
   "source": [
    "# Venture Funding with Deep Learning\n",
    "\n",
    "You work as a risk management associate at Alphabet Soup, a venture capital firm. Alphabet Soup’s business team receives many funding applications from startups every day. This team has asked you to help them create a model that predicts whether applicants will be successful if funded by Alphabet Soup.\n",
    "\n",
    "The business team has given you a CSV containing more than 34,000 organizations that have received funding from Alphabet Soup over the years. With your knowledge of machine learning and neural networks, you decide to use the features in the provided dataset to create a binary classifier model that will predict whether an applicant will become a successful business. The CSV file contains a variety of information about these businesses, including whether or not they ultimately became successful.\n",
    "\n",
    "## Instructions:\n",
    "\n",
    "The steps for this challenge are broken out into the following sections:\n",
    "\n",
    "* Prepare the data for use on a neural network model.\n",
    "\n",
    "* Compile and evaluate a binary classification model using a neural network.\n",
    "\n",
    "* Optimize the neural network model.\n",
    "\n",
    "### Prepare the Data for Use on a Neural Network Model \n",
    "\n",
    "Using your knowledge of Pandas and scikit-learn’s `StandardScaler()`, preprocess the dataset so that you can use it to compile and evaluate the neural network model later.\n",
    "\n",
    "Open the starter code file, and complete the following data preparation steps:\n",
    "\n",
    "1. Read the `applicants_data.csv` file into a Pandas DataFrame. Review the DataFrame, looking for categorical variables that will need to be encoded, as well as columns that could eventually define your features and target variables.   \n",
    "\n",
    "2. Drop the “EIN” (Employer Identification Number) and “NAME” columns from the DataFrame, because they are not relevant to the binary classification model.\n",
    " \n",
    "3. Encode the dataset’s categorical variables using `OneHotEncoder`, and then place the encoded variables into a new DataFrame.\n",
    "\n",
    "4. Add the original DataFrame’s numerical variables to the DataFrame containing the encoded variables.\n",
    "\n",
    "> **Note** To complete this step, you will employ the Pandas `concat()` function that was introduced earlier in this course. \n",
    "\n",
    "5. Using the preprocessed data, create the features (`X`) and target (`y`) datasets. The target dataset should be defined by the preprocessed DataFrame column “IS_SUCCESSFUL”. The remaining columns should define the features dataset. \n",
    "\n",
    "6. Split the features and target sets into training and testing datasets.\n",
    "\n",
    "7. Use scikit-learn's `StandardScaler` to scale the features data.\n",
    "\n",
    "### Compile and Evaluate a Binary Classification Model Using a Neural Network\n",
    "\n",
    "Use your knowledge of TensorFlow to design a binary classification deep neural network model. This model should use the dataset’s features to predict whether an Alphabet Soup&ndash;funded startup will be successful based on the features in the dataset. Consider the number of inputs before determining the number of layers that your model will contain or the number of neurons on each layer. Then, compile and fit your model. Finally, evaluate your binary classification model to calculate the model’s loss and accuracy. \n",
    " \n",
    "To do so, complete the following steps:\n",
    "\n",
    "1. Create a deep neural network by assigning the number of input features, the number of layers, and the number of neurons on each layer using Tensorflow’s Keras.\n",
    "\n",
    "> **Hint** You can start with a two-layer deep neural network model that uses the `relu` activation function for both layers.\n",
    "\n",
    "2. Compile and fit the model using the `binary_crossentropy` loss function, the `adam` optimizer, and the `accuracy` evaluation metric.\n",
    "\n",
    "> **Hint** When fitting the model, start with a small number of epochs, such as 20, 50, or 100.\n",
    "\n",
    "3. Evaluate the model using the test data to determine the model’s loss and accuracy.\n",
    "\n",
    "4. Save and export your model to an HDF5 file, and name the file `AlphabetSoup.h5`. \n",
    "\n",
    "### Optimize the Neural Network Model\n",
    "\n",
    "Using your knowledge of TensorFlow and Keras, optimize your model to improve the model's accuracy. Even if you do not successfully achieve a better accuracy, you'll need to demonstrate at least two attempts to optimize the model. You can include these attempts in your existing notebook. Or, you can make copies of the starter notebook in the same folder, rename them, and code each model optimization in a new notebook. \n",
    "\n",
    "> **Note** You will not lose points if your model does not achieve a high accuracy, as long as you make at least two attempts to optimize the model.\n",
    "\n",
    "To do so, complete the following steps:\n",
    "\n",
    "1. Define at least three new deep neural network models (the original plus 2 optimization attempts). With each, try to improve on your first model’s predictive accuracy.\n",
    "\n",
    "> **Rewind** Recall that perfect accuracy has a value of 1, so accuracy improves as its value moves closer to 1. To optimize your model for a predictive accuracy as close to 1 as possible, you can use any or all of the following techniques:\n",
    ">\n",
    "> * Adjust the input data by dropping different features columns to ensure that no variables or outliers confuse the model.\n",
    ">\n",
    "> * Add more neurons (nodes) to a hidden layer.\n",
    ">\n",
    "> * Add more hidden layers.\n",
    ">\n",
    "> * Use different activation functions for the hidden layers.\n",
    ">\n",
    "> * Add to or reduce the number of epochs in the training regimen.\n",
    "\n",
    "2. After finishing your models, display the accuracy scores achieved by each model, and compare the results.\n",
    "\n",
    "3. Save each of your models as an HDF5 file.\n"
   ]
  },
  {
   "cell_type": "code",
   "execution_count": 279,
   "metadata": {},
   "outputs": [],
   "source": [
    "# Imports\n",
    "import pandas as pd\n",
    "from pathlib import Path\n",
    "import tensorflow as tf\n",
    "from tensorflow.keras.layers import Dense\n",
    "from tensorflow.keras.models import Sequential\n",
    "from sklearn.model_selection import train_test_split\n",
    "from sklearn.preprocessing import StandardScaler,OneHotEncoder"
   ]
  },
  {
   "cell_type": "code",
   "execution_count": 280,
   "metadata": {},
   "outputs": [],
   "source": [
    "import matplotlib.pyplot as plt\n",
    "%matplotlib inline"
   ]
  },
  {
   "cell_type": "markdown",
   "metadata": {},
   "source": [
    "---\n",
    "\n",
    "## Prepare the data to be used on a neural network model"
   ]
  },
  {
   "cell_type": "markdown",
   "metadata": {},
   "source": [
    "### Step 1: Read the `applicants_data.csv` file into a Pandas DataFrame. Review the DataFrame, looking for categorical variables that will need to be encoded, as well as columns that could eventually define your features and target variables.  \n"
   ]
  },
  {
   "cell_type": "code",
   "execution_count": 281,
   "metadata": {},
   "outputs": [
    {
     "data": {
      "text/html": [
       "<div>\n",
       "<style scoped>\n",
       "    .dataframe tbody tr th:only-of-type {\n",
       "        vertical-align: middle;\n",
       "    }\n",
       "\n",
       "    .dataframe tbody tr th {\n",
       "        vertical-align: top;\n",
       "    }\n",
       "\n",
       "    .dataframe thead th {\n",
       "        text-align: right;\n",
       "    }\n",
       "</style>\n",
       "<table border=\"1\" class=\"dataframe\">\n",
       "  <thead>\n",
       "    <tr style=\"text-align: right;\">\n",
       "      <th></th>\n",
       "      <th>EIN</th>\n",
       "      <th>NAME</th>\n",
       "      <th>APPLICATION_TYPE</th>\n",
       "      <th>AFFILIATION</th>\n",
       "      <th>CLASSIFICATION</th>\n",
       "      <th>USE_CASE</th>\n",
       "      <th>ORGANIZATION</th>\n",
       "      <th>STATUS</th>\n",
       "      <th>INCOME_AMT</th>\n",
       "      <th>SPECIAL_CONSIDERATIONS</th>\n",
       "      <th>ASK_AMT</th>\n",
       "      <th>IS_SUCCESSFUL</th>\n",
       "    </tr>\n",
       "  </thead>\n",
       "  <tbody>\n",
       "    <tr>\n",
       "      <th>0</th>\n",
       "      <td>10520599</td>\n",
       "      <td>BLUE KNIGHTS MOTORCYCLE CLUB</td>\n",
       "      <td>T10</td>\n",
       "      <td>Independent</td>\n",
       "      <td>C1000</td>\n",
       "      <td>ProductDev</td>\n",
       "      <td>Association</td>\n",
       "      <td>1</td>\n",
       "      <td>0</td>\n",
       "      <td>N</td>\n",
       "      <td>5000</td>\n",
       "      <td>1</td>\n",
       "    </tr>\n",
       "    <tr>\n",
       "      <th>1</th>\n",
       "      <td>10531628</td>\n",
       "      <td>AMERICAN CHESAPEAKE CLUB CHARITABLE TR</td>\n",
       "      <td>T3</td>\n",
       "      <td>Independent</td>\n",
       "      <td>C2000</td>\n",
       "      <td>Preservation</td>\n",
       "      <td>Co-operative</td>\n",
       "      <td>1</td>\n",
       "      <td>1-9999</td>\n",
       "      <td>N</td>\n",
       "      <td>108590</td>\n",
       "      <td>1</td>\n",
       "    </tr>\n",
       "    <tr>\n",
       "      <th>2</th>\n",
       "      <td>10547893</td>\n",
       "      <td>ST CLOUD PROFESSIONAL FIREFIGHTERS</td>\n",
       "      <td>T5</td>\n",
       "      <td>CompanySponsored</td>\n",
       "      <td>C3000</td>\n",
       "      <td>ProductDev</td>\n",
       "      <td>Association</td>\n",
       "      <td>1</td>\n",
       "      <td>0</td>\n",
       "      <td>N</td>\n",
       "      <td>5000</td>\n",
       "      <td>0</td>\n",
       "    </tr>\n",
       "    <tr>\n",
       "      <th>3</th>\n",
       "      <td>10553066</td>\n",
       "      <td>SOUTHSIDE ATHLETIC ASSOCIATION</td>\n",
       "      <td>T3</td>\n",
       "      <td>CompanySponsored</td>\n",
       "      <td>C2000</td>\n",
       "      <td>Preservation</td>\n",
       "      <td>Trust</td>\n",
       "      <td>1</td>\n",
       "      <td>10000-24999</td>\n",
       "      <td>N</td>\n",
       "      <td>6692</td>\n",
       "      <td>1</td>\n",
       "    </tr>\n",
       "    <tr>\n",
       "      <th>4</th>\n",
       "      <td>10556103</td>\n",
       "      <td>GENETIC RESEARCH INSTITUTE OF THE DESERT</td>\n",
       "      <td>T3</td>\n",
       "      <td>Independent</td>\n",
       "      <td>C1000</td>\n",
       "      <td>Heathcare</td>\n",
       "      <td>Trust</td>\n",
       "      <td>1</td>\n",
       "      <td>100000-499999</td>\n",
       "      <td>N</td>\n",
       "      <td>142590</td>\n",
       "      <td>1</td>\n",
       "    </tr>\n",
       "  </tbody>\n",
       "</table>\n",
       "</div>"
      ],
      "text/plain": [
       "        EIN                                      NAME APPLICATION_TYPE  \\\n",
       "0  10520599              BLUE KNIGHTS MOTORCYCLE CLUB              T10   \n",
       "1  10531628    AMERICAN CHESAPEAKE CLUB CHARITABLE TR               T3   \n",
       "2  10547893        ST CLOUD PROFESSIONAL FIREFIGHTERS               T5   \n",
       "3  10553066            SOUTHSIDE ATHLETIC ASSOCIATION               T3   \n",
       "4  10556103  GENETIC RESEARCH INSTITUTE OF THE DESERT               T3   \n",
       "\n",
       "        AFFILIATION CLASSIFICATION      USE_CASE  ORGANIZATION  STATUS  \\\n",
       "0       Independent          C1000    ProductDev   Association       1   \n",
       "1       Independent          C2000  Preservation  Co-operative       1   \n",
       "2  CompanySponsored          C3000    ProductDev   Association       1   \n",
       "3  CompanySponsored          C2000  Preservation         Trust       1   \n",
       "4       Independent          C1000     Heathcare         Trust       1   \n",
       "\n",
       "      INCOME_AMT SPECIAL_CONSIDERATIONS  ASK_AMT  IS_SUCCESSFUL  \n",
       "0              0                      N     5000              1  \n",
       "1         1-9999                      N   108590              1  \n",
       "2              0                      N     5000              0  \n",
       "3    10000-24999                      N     6692              1  \n",
       "4  100000-499999                      N   142590              1  "
      ]
     },
     "execution_count": 281,
     "metadata": {},
     "output_type": "execute_result"
    }
   ],
   "source": [
    "# Read the applicants_data.csv file from the Resources folder into a Pandas DataFrame\n",
    "applicant_data_df = pd.read_csv(\n",
    "    Path('./Resources/applicants_data.csv')\n",
    ")\n",
    "\n",
    "# Review the DataFrame\n",
    "# YOUR CODE HERE\n",
    "applicant_data_df.head()"
   ]
  },
  {
   "cell_type": "code",
   "execution_count": 282,
   "metadata": {},
   "outputs": [
    {
     "data": {
      "text/plain": [
       "EIN                        int64\n",
       "NAME                      object\n",
       "APPLICATION_TYPE          object\n",
       "AFFILIATION               object\n",
       "CLASSIFICATION            object\n",
       "USE_CASE                  object\n",
       "ORGANIZATION              object\n",
       "STATUS                     int64\n",
       "INCOME_AMT                object\n",
       "SPECIAL_CONSIDERATIONS    object\n",
       "ASK_AMT                    int64\n",
       "IS_SUCCESSFUL              int64\n",
       "dtype: object"
      ]
     },
     "execution_count": 282,
     "metadata": {},
     "output_type": "execute_result"
    }
   ],
   "source": [
    "# Review the data types associated with the columns\n",
    "# YOUR CODE HERE\n",
    "applicant_data_df.dtypes"
   ]
  },
  {
   "cell_type": "markdown",
   "metadata": {},
   "source": [
    "### Step 2: Drop the “EIN” (Employer Identification Number) and “NAME” columns from the DataFrame, because they are not relevant to the binary classification model."
   ]
  },
  {
   "cell_type": "code",
   "execution_count": 283,
   "metadata": {},
   "outputs": [
    {
     "data": {
      "text/html": [
       "<div>\n",
       "<style scoped>\n",
       "    .dataframe tbody tr th:only-of-type {\n",
       "        vertical-align: middle;\n",
       "    }\n",
       "\n",
       "    .dataframe tbody tr th {\n",
       "        vertical-align: top;\n",
       "    }\n",
       "\n",
       "    .dataframe thead th {\n",
       "        text-align: right;\n",
       "    }\n",
       "</style>\n",
       "<table border=\"1\" class=\"dataframe\">\n",
       "  <thead>\n",
       "    <tr style=\"text-align: right;\">\n",
       "      <th></th>\n",
       "      <th>APPLICATION_TYPE</th>\n",
       "      <th>AFFILIATION</th>\n",
       "      <th>CLASSIFICATION</th>\n",
       "      <th>USE_CASE</th>\n",
       "      <th>ORGANIZATION</th>\n",
       "      <th>STATUS</th>\n",
       "      <th>INCOME_AMT</th>\n",
       "      <th>SPECIAL_CONSIDERATIONS</th>\n",
       "      <th>ASK_AMT</th>\n",
       "      <th>IS_SUCCESSFUL</th>\n",
       "    </tr>\n",
       "  </thead>\n",
       "  <tbody>\n",
       "    <tr>\n",
       "      <th>0</th>\n",
       "      <td>T10</td>\n",
       "      <td>Independent</td>\n",
       "      <td>C1000</td>\n",
       "      <td>ProductDev</td>\n",
       "      <td>Association</td>\n",
       "      <td>1</td>\n",
       "      <td>0</td>\n",
       "      <td>N</td>\n",
       "      <td>5000</td>\n",
       "      <td>1</td>\n",
       "    </tr>\n",
       "    <tr>\n",
       "      <th>1</th>\n",
       "      <td>T3</td>\n",
       "      <td>Independent</td>\n",
       "      <td>C2000</td>\n",
       "      <td>Preservation</td>\n",
       "      <td>Co-operative</td>\n",
       "      <td>1</td>\n",
       "      <td>1-9999</td>\n",
       "      <td>N</td>\n",
       "      <td>108590</td>\n",
       "      <td>1</td>\n",
       "    </tr>\n",
       "    <tr>\n",
       "      <th>2</th>\n",
       "      <td>T5</td>\n",
       "      <td>CompanySponsored</td>\n",
       "      <td>C3000</td>\n",
       "      <td>ProductDev</td>\n",
       "      <td>Association</td>\n",
       "      <td>1</td>\n",
       "      <td>0</td>\n",
       "      <td>N</td>\n",
       "      <td>5000</td>\n",
       "      <td>0</td>\n",
       "    </tr>\n",
       "    <tr>\n",
       "      <th>3</th>\n",
       "      <td>T3</td>\n",
       "      <td>CompanySponsored</td>\n",
       "      <td>C2000</td>\n",
       "      <td>Preservation</td>\n",
       "      <td>Trust</td>\n",
       "      <td>1</td>\n",
       "      <td>10000-24999</td>\n",
       "      <td>N</td>\n",
       "      <td>6692</td>\n",
       "      <td>1</td>\n",
       "    </tr>\n",
       "    <tr>\n",
       "      <th>4</th>\n",
       "      <td>T3</td>\n",
       "      <td>Independent</td>\n",
       "      <td>C1000</td>\n",
       "      <td>Heathcare</td>\n",
       "      <td>Trust</td>\n",
       "      <td>1</td>\n",
       "      <td>100000-499999</td>\n",
       "      <td>N</td>\n",
       "      <td>142590</td>\n",
       "      <td>1</td>\n",
       "    </tr>\n",
       "  </tbody>\n",
       "</table>\n",
       "</div>"
      ],
      "text/plain": [
       "  APPLICATION_TYPE       AFFILIATION CLASSIFICATION      USE_CASE  \\\n",
       "0              T10       Independent          C1000    ProductDev   \n",
       "1               T3       Independent          C2000  Preservation   \n",
       "2               T5  CompanySponsored          C3000    ProductDev   \n",
       "3               T3  CompanySponsored          C2000  Preservation   \n",
       "4               T3       Independent          C1000     Heathcare   \n",
       "\n",
       "   ORGANIZATION  STATUS     INCOME_AMT SPECIAL_CONSIDERATIONS  ASK_AMT  \\\n",
       "0   Association       1              0                      N     5000   \n",
       "1  Co-operative       1         1-9999                      N   108590   \n",
       "2   Association       1              0                      N     5000   \n",
       "3         Trust       1    10000-24999                      N     6692   \n",
       "4         Trust       1  100000-499999                      N   142590   \n",
       "\n",
       "   IS_SUCCESSFUL  \n",
       "0              1  \n",
       "1              1  \n",
       "2              0  \n",
       "3              1  \n",
       "4              1  "
      ]
     },
     "execution_count": 283,
     "metadata": {},
     "output_type": "execute_result"
    }
   ],
   "source": [
    "# Drop the 'EIN' and 'NAME' columns from the DataFrame\n",
    "applicant_data_df = applicant_data_df.drop(columns=['EIN', 'NAME'])\n",
    "\n",
    "# Review the DataFrame\n",
    "# YOUR CODE HERE\n",
    "applicant_data_df.head()"
   ]
  },
  {
   "cell_type": "markdown",
   "metadata": {},
   "source": [
    "### Step 3: Encode the dataset’s categorical variables using `OneHotEncoder`, and then place the encoded variables into a new DataFrame."
   ]
  },
  {
   "cell_type": "code",
   "execution_count": 284,
   "metadata": {},
   "outputs": [
    {
     "data": {
      "text/plain": [
       "['APPLICATION_TYPE',\n",
       " 'AFFILIATION',\n",
       " 'CLASSIFICATION',\n",
       " 'USE_CASE',\n",
       " 'ORGANIZATION',\n",
       " 'INCOME_AMT',\n",
       " 'SPECIAL_CONSIDERATIONS']"
      ]
     },
     "execution_count": 284,
     "metadata": {},
     "output_type": "execute_result"
    }
   ],
   "source": [
    "# Create a list of categorical variables \n",
    "categorical_variables = list(applicant_data_df.dtypes[applicant_data_df.dtypes == 'object'].index)\n",
    "\n",
    "# Display the categorical variables list\n",
    "# YOUR CODE HERE\n",
    "categorical_variables"
   ]
  },
  {
   "cell_type": "code",
   "execution_count": 285,
   "metadata": {},
   "outputs": [
    {
     "data": {
      "text/plain": [
       "OneHotEncoder(sparse=False)"
      ]
     },
     "execution_count": 285,
     "metadata": {},
     "output_type": "execute_result"
    }
   ],
   "source": [
    "# Create a OneHotEncoder instance\n",
    "enc = OneHotEncoder(sparse=False)\n",
    "enc"
   ]
  },
  {
   "cell_type": "code",
   "execution_count": 286,
   "metadata": {},
   "outputs": [],
   "source": [
    "# Encode the categorcal variables using OneHotEncoder\n",
    "encoded_data = enc.fit_transform(applicant_data_df[categorical_variables])\n"
   ]
  },
  {
   "cell_type": "code",
   "execution_count": 287,
   "metadata": {},
   "outputs": [
    {
     "name": "stderr",
     "output_type": "stream",
     "text": [
      "C:\\Users\\Pravin\\anaconda3\\envs\\dev\\lib\\site-packages\\sklearn\\utils\\deprecation.py:87: FutureWarning: Function get_feature_names is deprecated; get_feature_names is deprecated in 1.0 and will be removed in 1.2. Please use get_feature_names_out instead.\n",
      "  warnings.warn(msg, category=FutureWarning)\n"
     ]
    },
    {
     "data": {
      "text/html": [
       "<div>\n",
       "<style scoped>\n",
       "    .dataframe tbody tr th:only-of-type {\n",
       "        vertical-align: middle;\n",
       "    }\n",
       "\n",
       "    .dataframe tbody tr th {\n",
       "        vertical-align: top;\n",
       "    }\n",
       "\n",
       "    .dataframe thead th {\n",
       "        text-align: right;\n",
       "    }\n",
       "</style>\n",
       "<table border=\"1\" class=\"dataframe\">\n",
       "  <thead>\n",
       "    <tr style=\"text-align: right;\">\n",
       "      <th></th>\n",
       "      <th>APPLICATION_TYPE_T10</th>\n",
       "      <th>APPLICATION_TYPE_T12</th>\n",
       "      <th>APPLICATION_TYPE_T13</th>\n",
       "      <th>APPLICATION_TYPE_T14</th>\n",
       "      <th>APPLICATION_TYPE_T15</th>\n",
       "      <th>APPLICATION_TYPE_T17</th>\n",
       "      <th>APPLICATION_TYPE_T19</th>\n",
       "      <th>APPLICATION_TYPE_T2</th>\n",
       "      <th>APPLICATION_TYPE_T25</th>\n",
       "      <th>APPLICATION_TYPE_T29</th>\n",
       "      <th>...</th>\n",
       "      <th>INCOME_AMT_1-9999</th>\n",
       "      <th>INCOME_AMT_10000-24999</th>\n",
       "      <th>INCOME_AMT_100000-499999</th>\n",
       "      <th>INCOME_AMT_10M-50M</th>\n",
       "      <th>INCOME_AMT_1M-5M</th>\n",
       "      <th>INCOME_AMT_25000-99999</th>\n",
       "      <th>INCOME_AMT_50M+</th>\n",
       "      <th>INCOME_AMT_5M-10M</th>\n",
       "      <th>SPECIAL_CONSIDERATIONS_N</th>\n",
       "      <th>SPECIAL_CONSIDERATIONS_Y</th>\n",
       "    </tr>\n",
       "  </thead>\n",
       "  <tbody>\n",
       "    <tr>\n",
       "      <th>0</th>\n",
       "      <td>1.0</td>\n",
       "      <td>0.0</td>\n",
       "      <td>0.0</td>\n",
       "      <td>0.0</td>\n",
       "      <td>0.0</td>\n",
       "      <td>0.0</td>\n",
       "      <td>0.0</td>\n",
       "      <td>0.0</td>\n",
       "      <td>0.0</td>\n",
       "      <td>0.0</td>\n",
       "      <td>...</td>\n",
       "      <td>0.0</td>\n",
       "      <td>0.0</td>\n",
       "      <td>0.0</td>\n",
       "      <td>0.0</td>\n",
       "      <td>0.0</td>\n",
       "      <td>0.0</td>\n",
       "      <td>0.0</td>\n",
       "      <td>0.0</td>\n",
       "      <td>1.0</td>\n",
       "      <td>0.0</td>\n",
       "    </tr>\n",
       "    <tr>\n",
       "      <th>1</th>\n",
       "      <td>0.0</td>\n",
       "      <td>0.0</td>\n",
       "      <td>0.0</td>\n",
       "      <td>0.0</td>\n",
       "      <td>0.0</td>\n",
       "      <td>0.0</td>\n",
       "      <td>0.0</td>\n",
       "      <td>0.0</td>\n",
       "      <td>0.0</td>\n",
       "      <td>0.0</td>\n",
       "      <td>...</td>\n",
       "      <td>1.0</td>\n",
       "      <td>0.0</td>\n",
       "      <td>0.0</td>\n",
       "      <td>0.0</td>\n",
       "      <td>0.0</td>\n",
       "      <td>0.0</td>\n",
       "      <td>0.0</td>\n",
       "      <td>0.0</td>\n",
       "      <td>1.0</td>\n",
       "      <td>0.0</td>\n",
       "    </tr>\n",
       "    <tr>\n",
       "      <th>2</th>\n",
       "      <td>0.0</td>\n",
       "      <td>0.0</td>\n",
       "      <td>0.0</td>\n",
       "      <td>0.0</td>\n",
       "      <td>0.0</td>\n",
       "      <td>0.0</td>\n",
       "      <td>0.0</td>\n",
       "      <td>0.0</td>\n",
       "      <td>0.0</td>\n",
       "      <td>0.0</td>\n",
       "      <td>...</td>\n",
       "      <td>0.0</td>\n",
       "      <td>0.0</td>\n",
       "      <td>0.0</td>\n",
       "      <td>0.0</td>\n",
       "      <td>0.0</td>\n",
       "      <td>0.0</td>\n",
       "      <td>0.0</td>\n",
       "      <td>0.0</td>\n",
       "      <td>1.0</td>\n",
       "      <td>0.0</td>\n",
       "    </tr>\n",
       "    <tr>\n",
       "      <th>3</th>\n",
       "      <td>0.0</td>\n",
       "      <td>0.0</td>\n",
       "      <td>0.0</td>\n",
       "      <td>0.0</td>\n",
       "      <td>0.0</td>\n",
       "      <td>0.0</td>\n",
       "      <td>0.0</td>\n",
       "      <td>0.0</td>\n",
       "      <td>0.0</td>\n",
       "      <td>0.0</td>\n",
       "      <td>...</td>\n",
       "      <td>0.0</td>\n",
       "      <td>1.0</td>\n",
       "      <td>0.0</td>\n",
       "      <td>0.0</td>\n",
       "      <td>0.0</td>\n",
       "      <td>0.0</td>\n",
       "      <td>0.0</td>\n",
       "      <td>0.0</td>\n",
       "      <td>1.0</td>\n",
       "      <td>0.0</td>\n",
       "    </tr>\n",
       "    <tr>\n",
       "      <th>4</th>\n",
       "      <td>0.0</td>\n",
       "      <td>0.0</td>\n",
       "      <td>0.0</td>\n",
       "      <td>0.0</td>\n",
       "      <td>0.0</td>\n",
       "      <td>0.0</td>\n",
       "      <td>0.0</td>\n",
       "      <td>0.0</td>\n",
       "      <td>0.0</td>\n",
       "      <td>0.0</td>\n",
       "      <td>...</td>\n",
       "      <td>0.0</td>\n",
       "      <td>0.0</td>\n",
       "      <td>1.0</td>\n",
       "      <td>0.0</td>\n",
       "      <td>0.0</td>\n",
       "      <td>0.0</td>\n",
       "      <td>0.0</td>\n",
       "      <td>0.0</td>\n",
       "      <td>1.0</td>\n",
       "      <td>0.0</td>\n",
       "    </tr>\n",
       "  </tbody>\n",
       "</table>\n",
       "<p>5 rows × 114 columns</p>\n",
       "</div>"
      ],
      "text/plain": [
       "   APPLICATION_TYPE_T10  APPLICATION_TYPE_T12  APPLICATION_TYPE_T13  \\\n",
       "0                   1.0                   0.0                   0.0   \n",
       "1                   0.0                   0.0                   0.0   \n",
       "2                   0.0                   0.0                   0.0   \n",
       "3                   0.0                   0.0                   0.0   \n",
       "4                   0.0                   0.0                   0.0   \n",
       "\n",
       "   APPLICATION_TYPE_T14  APPLICATION_TYPE_T15  APPLICATION_TYPE_T17  \\\n",
       "0                   0.0                   0.0                   0.0   \n",
       "1                   0.0                   0.0                   0.0   \n",
       "2                   0.0                   0.0                   0.0   \n",
       "3                   0.0                   0.0                   0.0   \n",
       "4                   0.0                   0.0                   0.0   \n",
       "\n",
       "   APPLICATION_TYPE_T19  APPLICATION_TYPE_T2  APPLICATION_TYPE_T25  \\\n",
       "0                   0.0                  0.0                   0.0   \n",
       "1                   0.0                  0.0                   0.0   \n",
       "2                   0.0                  0.0                   0.0   \n",
       "3                   0.0                  0.0                   0.0   \n",
       "4                   0.0                  0.0                   0.0   \n",
       "\n",
       "   APPLICATION_TYPE_T29  ...  INCOME_AMT_1-9999  INCOME_AMT_10000-24999  \\\n",
       "0                   0.0  ...                0.0                     0.0   \n",
       "1                   0.0  ...                1.0                     0.0   \n",
       "2                   0.0  ...                0.0                     0.0   \n",
       "3                   0.0  ...                0.0                     1.0   \n",
       "4                   0.0  ...                0.0                     0.0   \n",
       "\n",
       "   INCOME_AMT_100000-499999  INCOME_AMT_10M-50M  INCOME_AMT_1M-5M  \\\n",
       "0                       0.0                 0.0               0.0   \n",
       "1                       0.0                 0.0               0.0   \n",
       "2                       0.0                 0.0               0.0   \n",
       "3                       0.0                 0.0               0.0   \n",
       "4                       1.0                 0.0               0.0   \n",
       "\n",
       "   INCOME_AMT_25000-99999  INCOME_AMT_50M+  INCOME_AMT_5M-10M  \\\n",
       "0                     0.0              0.0                0.0   \n",
       "1                     0.0              0.0                0.0   \n",
       "2                     0.0              0.0                0.0   \n",
       "3                     0.0              0.0                0.0   \n",
       "4                     0.0              0.0                0.0   \n",
       "\n",
       "   SPECIAL_CONSIDERATIONS_N  SPECIAL_CONSIDERATIONS_Y  \n",
       "0                       1.0                       0.0  \n",
       "1                       1.0                       0.0  \n",
       "2                       1.0                       0.0  \n",
       "3                       1.0                       0.0  \n",
       "4                       1.0                       0.0  \n",
       "\n",
       "[5 rows x 114 columns]"
      ]
     },
     "execution_count": 287,
     "metadata": {},
     "output_type": "execute_result"
    }
   ],
   "source": [
    "# Create a DataFrame with the encoded variables\n",
    "encoded_df = pd.DataFrame(\n",
    "    encoded_data,\n",
    "    columns=enc.get_feature_names(categorical_variables)\n",
    ")\n",
    "\n",
    "# Review the DataFrame\n",
    "# YOUR CODE HERE\n",
    "encoded_df.head()"
   ]
  },
  {
   "cell_type": "code",
   "execution_count": 288,
   "metadata": {},
   "outputs": [
    {
     "data": {
      "text/html": [
       "<div>\n",
       "<style scoped>\n",
       "    .dataframe tbody tr th:only-of-type {\n",
       "        vertical-align: middle;\n",
       "    }\n",
       "\n",
       "    .dataframe tbody tr th {\n",
       "        vertical-align: top;\n",
       "    }\n",
       "\n",
       "    .dataframe thead th {\n",
       "        text-align: right;\n",
       "    }\n",
       "</style>\n",
       "<table border=\"1\" class=\"dataframe\">\n",
       "  <thead>\n",
       "    <tr style=\"text-align: right;\">\n",
       "      <th></th>\n",
       "      <th>STATUS</th>\n",
       "      <th>ASK_AMT</th>\n",
       "      <th>IS_SUCCESSFUL</th>\n",
       "    </tr>\n",
       "  </thead>\n",
       "  <tbody>\n",
       "    <tr>\n",
       "      <th>0</th>\n",
       "      <td>1</td>\n",
       "      <td>5000</td>\n",
       "      <td>1</td>\n",
       "    </tr>\n",
       "    <tr>\n",
       "      <th>1</th>\n",
       "      <td>1</td>\n",
       "      <td>108590</td>\n",
       "      <td>1</td>\n",
       "    </tr>\n",
       "    <tr>\n",
       "      <th>2</th>\n",
       "      <td>1</td>\n",
       "      <td>5000</td>\n",
       "      <td>0</td>\n",
       "    </tr>\n",
       "    <tr>\n",
       "      <th>3</th>\n",
       "      <td>1</td>\n",
       "      <td>6692</td>\n",
       "      <td>1</td>\n",
       "    </tr>\n",
       "    <tr>\n",
       "      <th>4</th>\n",
       "      <td>1</td>\n",
       "      <td>142590</td>\n",
       "      <td>1</td>\n",
       "    </tr>\n",
       "  </tbody>\n",
       "</table>\n",
       "</div>"
      ],
      "text/plain": [
       "   STATUS  ASK_AMT  IS_SUCCESSFUL\n",
       "0       1     5000              1\n",
       "1       1   108590              1\n",
       "2       1     5000              0\n",
       "3       1     6692              1\n",
       "4       1   142590              1"
      ]
     },
     "execution_count": 288,
     "metadata": {},
     "output_type": "execute_result"
    }
   ],
   "source": [
    "# Create a DataFrame with the columnns containing numerical variables from the original dataset\n",
    "numerical_variables_df = applicant_data_df.drop(columns = categorical_variables)\n",
    "\n",
    "# Review the DataFrame\n",
    "numerical_variables_df.head()"
   ]
  },
  {
   "cell_type": "markdown",
   "metadata": {},
   "source": [
    "### Step 4: Add the original DataFrame’s numerical variables to the DataFrame containing the encoded variables.\n",
    "\n",
    "> **Note** To complete this step, you will employ the Pandas `concat()` function that was introduced earlier in this course. "
   ]
  },
  {
   "cell_type": "code",
   "execution_count": 289,
   "metadata": {},
   "outputs": [
    {
     "data": {
      "text/html": [
       "<div>\n",
       "<style scoped>\n",
       "    .dataframe tbody tr th:only-of-type {\n",
       "        vertical-align: middle;\n",
       "    }\n",
       "\n",
       "    .dataframe tbody tr th {\n",
       "        vertical-align: top;\n",
       "    }\n",
       "\n",
       "    .dataframe thead th {\n",
       "        text-align: right;\n",
       "    }\n",
       "</style>\n",
       "<table border=\"1\" class=\"dataframe\">\n",
       "  <thead>\n",
       "    <tr style=\"text-align: right;\">\n",
       "      <th></th>\n",
       "      <th>STATUS</th>\n",
       "      <th>ASK_AMT</th>\n",
       "      <th>IS_SUCCESSFUL</th>\n",
       "      <th>APPLICATION_TYPE_T10</th>\n",
       "      <th>APPLICATION_TYPE_T12</th>\n",
       "      <th>APPLICATION_TYPE_T13</th>\n",
       "      <th>APPLICATION_TYPE_T14</th>\n",
       "      <th>APPLICATION_TYPE_T15</th>\n",
       "      <th>APPLICATION_TYPE_T17</th>\n",
       "      <th>APPLICATION_TYPE_T19</th>\n",
       "      <th>...</th>\n",
       "      <th>INCOME_AMT_1-9999</th>\n",
       "      <th>INCOME_AMT_10000-24999</th>\n",
       "      <th>INCOME_AMT_100000-499999</th>\n",
       "      <th>INCOME_AMT_10M-50M</th>\n",
       "      <th>INCOME_AMT_1M-5M</th>\n",
       "      <th>INCOME_AMT_25000-99999</th>\n",
       "      <th>INCOME_AMT_50M+</th>\n",
       "      <th>INCOME_AMT_5M-10M</th>\n",
       "      <th>SPECIAL_CONSIDERATIONS_N</th>\n",
       "      <th>SPECIAL_CONSIDERATIONS_Y</th>\n",
       "    </tr>\n",
       "  </thead>\n",
       "  <tbody>\n",
       "    <tr>\n",
       "      <th>0</th>\n",
       "      <td>1</td>\n",
       "      <td>5000</td>\n",
       "      <td>1</td>\n",
       "      <td>1.0</td>\n",
       "      <td>0.0</td>\n",
       "      <td>0.0</td>\n",
       "      <td>0.0</td>\n",
       "      <td>0.0</td>\n",
       "      <td>0.0</td>\n",
       "      <td>0.0</td>\n",
       "      <td>...</td>\n",
       "      <td>0.0</td>\n",
       "      <td>0.0</td>\n",
       "      <td>0.0</td>\n",
       "      <td>0.0</td>\n",
       "      <td>0.0</td>\n",
       "      <td>0.0</td>\n",
       "      <td>0.0</td>\n",
       "      <td>0.0</td>\n",
       "      <td>1.0</td>\n",
       "      <td>0.0</td>\n",
       "    </tr>\n",
       "    <tr>\n",
       "      <th>1</th>\n",
       "      <td>1</td>\n",
       "      <td>108590</td>\n",
       "      <td>1</td>\n",
       "      <td>0.0</td>\n",
       "      <td>0.0</td>\n",
       "      <td>0.0</td>\n",
       "      <td>0.0</td>\n",
       "      <td>0.0</td>\n",
       "      <td>0.0</td>\n",
       "      <td>0.0</td>\n",
       "      <td>...</td>\n",
       "      <td>1.0</td>\n",
       "      <td>0.0</td>\n",
       "      <td>0.0</td>\n",
       "      <td>0.0</td>\n",
       "      <td>0.0</td>\n",
       "      <td>0.0</td>\n",
       "      <td>0.0</td>\n",
       "      <td>0.0</td>\n",
       "      <td>1.0</td>\n",
       "      <td>0.0</td>\n",
       "    </tr>\n",
       "    <tr>\n",
       "      <th>2</th>\n",
       "      <td>1</td>\n",
       "      <td>5000</td>\n",
       "      <td>0</td>\n",
       "      <td>0.0</td>\n",
       "      <td>0.0</td>\n",
       "      <td>0.0</td>\n",
       "      <td>0.0</td>\n",
       "      <td>0.0</td>\n",
       "      <td>0.0</td>\n",
       "      <td>0.0</td>\n",
       "      <td>...</td>\n",
       "      <td>0.0</td>\n",
       "      <td>0.0</td>\n",
       "      <td>0.0</td>\n",
       "      <td>0.0</td>\n",
       "      <td>0.0</td>\n",
       "      <td>0.0</td>\n",
       "      <td>0.0</td>\n",
       "      <td>0.0</td>\n",
       "      <td>1.0</td>\n",
       "      <td>0.0</td>\n",
       "    </tr>\n",
       "    <tr>\n",
       "      <th>3</th>\n",
       "      <td>1</td>\n",
       "      <td>6692</td>\n",
       "      <td>1</td>\n",
       "      <td>0.0</td>\n",
       "      <td>0.0</td>\n",
       "      <td>0.0</td>\n",
       "      <td>0.0</td>\n",
       "      <td>0.0</td>\n",
       "      <td>0.0</td>\n",
       "      <td>0.0</td>\n",
       "      <td>...</td>\n",
       "      <td>0.0</td>\n",
       "      <td>1.0</td>\n",
       "      <td>0.0</td>\n",
       "      <td>0.0</td>\n",
       "      <td>0.0</td>\n",
       "      <td>0.0</td>\n",
       "      <td>0.0</td>\n",
       "      <td>0.0</td>\n",
       "      <td>1.0</td>\n",
       "      <td>0.0</td>\n",
       "    </tr>\n",
       "    <tr>\n",
       "      <th>4</th>\n",
       "      <td>1</td>\n",
       "      <td>142590</td>\n",
       "      <td>1</td>\n",
       "      <td>0.0</td>\n",
       "      <td>0.0</td>\n",
       "      <td>0.0</td>\n",
       "      <td>0.0</td>\n",
       "      <td>0.0</td>\n",
       "      <td>0.0</td>\n",
       "      <td>0.0</td>\n",
       "      <td>...</td>\n",
       "      <td>0.0</td>\n",
       "      <td>0.0</td>\n",
       "      <td>1.0</td>\n",
       "      <td>0.0</td>\n",
       "      <td>0.0</td>\n",
       "      <td>0.0</td>\n",
       "      <td>0.0</td>\n",
       "      <td>0.0</td>\n",
       "      <td>1.0</td>\n",
       "      <td>0.0</td>\n",
       "    </tr>\n",
       "  </tbody>\n",
       "</table>\n",
       "<p>5 rows × 117 columns</p>\n",
       "</div>"
      ],
      "text/plain": [
       "   STATUS  ASK_AMT  IS_SUCCESSFUL  APPLICATION_TYPE_T10  APPLICATION_TYPE_T12  \\\n",
       "0       1     5000              1                   1.0                   0.0   \n",
       "1       1   108590              1                   0.0                   0.0   \n",
       "2       1     5000              0                   0.0                   0.0   \n",
       "3       1     6692              1                   0.0                   0.0   \n",
       "4       1   142590              1                   0.0                   0.0   \n",
       "\n",
       "   APPLICATION_TYPE_T13  APPLICATION_TYPE_T14  APPLICATION_TYPE_T15  \\\n",
       "0                   0.0                   0.0                   0.0   \n",
       "1                   0.0                   0.0                   0.0   \n",
       "2                   0.0                   0.0                   0.0   \n",
       "3                   0.0                   0.0                   0.0   \n",
       "4                   0.0                   0.0                   0.0   \n",
       "\n",
       "   APPLICATION_TYPE_T17  APPLICATION_TYPE_T19  ...  INCOME_AMT_1-9999  \\\n",
       "0                   0.0                   0.0  ...                0.0   \n",
       "1                   0.0                   0.0  ...                1.0   \n",
       "2                   0.0                   0.0  ...                0.0   \n",
       "3                   0.0                   0.0  ...                0.0   \n",
       "4                   0.0                   0.0  ...                0.0   \n",
       "\n",
       "   INCOME_AMT_10000-24999  INCOME_AMT_100000-499999  INCOME_AMT_10M-50M  \\\n",
       "0                     0.0                       0.0                 0.0   \n",
       "1                     0.0                       0.0                 0.0   \n",
       "2                     0.0                       0.0                 0.0   \n",
       "3                     1.0                       0.0                 0.0   \n",
       "4                     0.0                       1.0                 0.0   \n",
       "\n",
       "   INCOME_AMT_1M-5M  INCOME_AMT_25000-99999  INCOME_AMT_50M+  \\\n",
       "0               0.0                     0.0              0.0   \n",
       "1               0.0                     0.0              0.0   \n",
       "2               0.0                     0.0              0.0   \n",
       "3               0.0                     0.0              0.0   \n",
       "4               0.0                     0.0              0.0   \n",
       "\n",
       "   INCOME_AMT_5M-10M  SPECIAL_CONSIDERATIONS_N  SPECIAL_CONSIDERATIONS_Y  \n",
       "0                0.0                       1.0                       0.0  \n",
       "1                0.0                       1.0                       0.0  \n",
       "2                0.0                       1.0                       0.0  \n",
       "3                0.0                       1.0                       0.0  \n",
       "4                0.0                       1.0                       0.0  \n",
       "\n",
       "[5 rows x 117 columns]"
      ]
     },
     "execution_count": 289,
     "metadata": {},
     "output_type": "execute_result"
    }
   ],
   "source": [
    "# Add the numerical variables from the original DataFrame to the one-hot encoding DataFrame\n",
    "encoded_df = pd.concat(\n",
    "      [\n",
    "        numerical_variables_df,\n",
    "        encoded_df\n",
    "    ],\n",
    "    axis=1\n",
    ")\n",
    "\n",
    "# Review the Dataframe\n",
    "# YOUR CODE HERE\n",
    "encoded_df.head()"
   ]
  },
  {
   "cell_type": "markdown",
   "metadata": {},
   "source": [
    "### Step 5: Using the preprocessed data, create the features (`X`) and target (`y`) datasets. The target dataset should be defined by the preprocessed DataFrame column “IS_SUCCESSFUL”. The remaining columns should define the features dataset. \n",
    "\n"
   ]
  },
  {
   "cell_type": "code",
   "execution_count": 290,
   "metadata": {},
   "outputs": [
    {
     "data": {
      "text/plain": [
       "0    1\n",
       "1    1\n",
       "2    0\n",
       "3    1\n",
       "4    1\n",
       "5    1\n",
       "6    1\n",
       "7    1\n",
       "8    1\n",
       "9    0\n",
       "Name: IS_SUCCESSFUL, dtype: int64"
      ]
     },
     "execution_count": 290,
     "metadata": {},
     "output_type": "execute_result"
    }
   ],
   "source": [
    "# Define the target set y using the IS_SUCCESSFUL column\n",
    "y = encoded_df['IS_SUCCESSFUL']\n",
    "\n",
    "# Display a sample of y\n",
    "# YOUR CODE HERE\n",
    "y[:10]"
   ]
  },
  {
   "cell_type": "code",
   "execution_count": 291,
   "metadata": {},
   "outputs": [
    {
     "data": {
      "text/html": [
       "<div>\n",
       "<style scoped>\n",
       "    .dataframe tbody tr th:only-of-type {\n",
       "        vertical-align: middle;\n",
       "    }\n",
       "\n",
       "    .dataframe tbody tr th {\n",
       "        vertical-align: top;\n",
       "    }\n",
       "\n",
       "    .dataframe thead th {\n",
       "        text-align: right;\n",
       "    }\n",
       "</style>\n",
       "<table border=\"1\" class=\"dataframe\">\n",
       "  <thead>\n",
       "    <tr style=\"text-align: right;\">\n",
       "      <th></th>\n",
       "      <th>STATUS</th>\n",
       "      <th>ASK_AMT</th>\n",
       "      <th>APPLICATION_TYPE_T10</th>\n",
       "      <th>APPLICATION_TYPE_T12</th>\n",
       "      <th>APPLICATION_TYPE_T13</th>\n",
       "      <th>APPLICATION_TYPE_T14</th>\n",
       "      <th>APPLICATION_TYPE_T15</th>\n",
       "      <th>APPLICATION_TYPE_T17</th>\n",
       "      <th>APPLICATION_TYPE_T19</th>\n",
       "      <th>APPLICATION_TYPE_T2</th>\n",
       "      <th>...</th>\n",
       "      <th>INCOME_AMT_1-9999</th>\n",
       "      <th>INCOME_AMT_10000-24999</th>\n",
       "      <th>INCOME_AMT_100000-499999</th>\n",
       "      <th>INCOME_AMT_10M-50M</th>\n",
       "      <th>INCOME_AMT_1M-5M</th>\n",
       "      <th>INCOME_AMT_25000-99999</th>\n",
       "      <th>INCOME_AMT_50M+</th>\n",
       "      <th>INCOME_AMT_5M-10M</th>\n",
       "      <th>SPECIAL_CONSIDERATIONS_N</th>\n",
       "      <th>SPECIAL_CONSIDERATIONS_Y</th>\n",
       "    </tr>\n",
       "  </thead>\n",
       "  <tbody>\n",
       "    <tr>\n",
       "      <th>0</th>\n",
       "      <td>1</td>\n",
       "      <td>5000</td>\n",
       "      <td>1.0</td>\n",
       "      <td>0.0</td>\n",
       "      <td>0.0</td>\n",
       "      <td>0.0</td>\n",
       "      <td>0.0</td>\n",
       "      <td>0.0</td>\n",
       "      <td>0.0</td>\n",
       "      <td>0.0</td>\n",
       "      <td>...</td>\n",
       "      <td>0.0</td>\n",
       "      <td>0.0</td>\n",
       "      <td>0.0</td>\n",
       "      <td>0.0</td>\n",
       "      <td>0.0</td>\n",
       "      <td>0.0</td>\n",
       "      <td>0.0</td>\n",
       "      <td>0.0</td>\n",
       "      <td>1.0</td>\n",
       "      <td>0.0</td>\n",
       "    </tr>\n",
       "    <tr>\n",
       "      <th>1</th>\n",
       "      <td>1</td>\n",
       "      <td>108590</td>\n",
       "      <td>0.0</td>\n",
       "      <td>0.0</td>\n",
       "      <td>0.0</td>\n",
       "      <td>0.0</td>\n",
       "      <td>0.0</td>\n",
       "      <td>0.0</td>\n",
       "      <td>0.0</td>\n",
       "      <td>0.0</td>\n",
       "      <td>...</td>\n",
       "      <td>1.0</td>\n",
       "      <td>0.0</td>\n",
       "      <td>0.0</td>\n",
       "      <td>0.0</td>\n",
       "      <td>0.0</td>\n",
       "      <td>0.0</td>\n",
       "      <td>0.0</td>\n",
       "      <td>0.0</td>\n",
       "      <td>1.0</td>\n",
       "      <td>0.0</td>\n",
       "    </tr>\n",
       "    <tr>\n",
       "      <th>2</th>\n",
       "      <td>1</td>\n",
       "      <td>5000</td>\n",
       "      <td>0.0</td>\n",
       "      <td>0.0</td>\n",
       "      <td>0.0</td>\n",
       "      <td>0.0</td>\n",
       "      <td>0.0</td>\n",
       "      <td>0.0</td>\n",
       "      <td>0.0</td>\n",
       "      <td>0.0</td>\n",
       "      <td>...</td>\n",
       "      <td>0.0</td>\n",
       "      <td>0.0</td>\n",
       "      <td>0.0</td>\n",
       "      <td>0.0</td>\n",
       "      <td>0.0</td>\n",
       "      <td>0.0</td>\n",
       "      <td>0.0</td>\n",
       "      <td>0.0</td>\n",
       "      <td>1.0</td>\n",
       "      <td>0.0</td>\n",
       "    </tr>\n",
       "    <tr>\n",
       "      <th>3</th>\n",
       "      <td>1</td>\n",
       "      <td>6692</td>\n",
       "      <td>0.0</td>\n",
       "      <td>0.0</td>\n",
       "      <td>0.0</td>\n",
       "      <td>0.0</td>\n",
       "      <td>0.0</td>\n",
       "      <td>0.0</td>\n",
       "      <td>0.0</td>\n",
       "      <td>0.0</td>\n",
       "      <td>...</td>\n",
       "      <td>0.0</td>\n",
       "      <td>1.0</td>\n",
       "      <td>0.0</td>\n",
       "      <td>0.0</td>\n",
       "      <td>0.0</td>\n",
       "      <td>0.0</td>\n",
       "      <td>0.0</td>\n",
       "      <td>0.0</td>\n",
       "      <td>1.0</td>\n",
       "      <td>0.0</td>\n",
       "    </tr>\n",
       "    <tr>\n",
       "      <th>4</th>\n",
       "      <td>1</td>\n",
       "      <td>142590</td>\n",
       "      <td>0.0</td>\n",
       "      <td>0.0</td>\n",
       "      <td>0.0</td>\n",
       "      <td>0.0</td>\n",
       "      <td>0.0</td>\n",
       "      <td>0.0</td>\n",
       "      <td>0.0</td>\n",
       "      <td>0.0</td>\n",
       "      <td>...</td>\n",
       "      <td>0.0</td>\n",
       "      <td>0.0</td>\n",
       "      <td>1.0</td>\n",
       "      <td>0.0</td>\n",
       "      <td>0.0</td>\n",
       "      <td>0.0</td>\n",
       "      <td>0.0</td>\n",
       "      <td>0.0</td>\n",
       "      <td>1.0</td>\n",
       "      <td>0.0</td>\n",
       "    </tr>\n",
       "  </tbody>\n",
       "</table>\n",
       "<p>5 rows × 116 columns</p>\n",
       "</div>"
      ],
      "text/plain": [
       "   STATUS  ASK_AMT  APPLICATION_TYPE_T10  APPLICATION_TYPE_T12  \\\n",
       "0       1     5000                   1.0                   0.0   \n",
       "1       1   108590                   0.0                   0.0   \n",
       "2       1     5000                   0.0                   0.0   \n",
       "3       1     6692                   0.0                   0.0   \n",
       "4       1   142590                   0.0                   0.0   \n",
       "\n",
       "   APPLICATION_TYPE_T13  APPLICATION_TYPE_T14  APPLICATION_TYPE_T15  \\\n",
       "0                   0.0                   0.0                   0.0   \n",
       "1                   0.0                   0.0                   0.0   \n",
       "2                   0.0                   0.0                   0.0   \n",
       "3                   0.0                   0.0                   0.0   \n",
       "4                   0.0                   0.0                   0.0   \n",
       "\n",
       "   APPLICATION_TYPE_T17  APPLICATION_TYPE_T19  APPLICATION_TYPE_T2  ...  \\\n",
       "0                   0.0                   0.0                  0.0  ...   \n",
       "1                   0.0                   0.0                  0.0  ...   \n",
       "2                   0.0                   0.0                  0.0  ...   \n",
       "3                   0.0                   0.0                  0.0  ...   \n",
       "4                   0.0                   0.0                  0.0  ...   \n",
       "\n",
       "   INCOME_AMT_1-9999  INCOME_AMT_10000-24999  INCOME_AMT_100000-499999  \\\n",
       "0                0.0                     0.0                       0.0   \n",
       "1                1.0                     0.0                       0.0   \n",
       "2                0.0                     0.0                       0.0   \n",
       "3                0.0                     1.0                       0.0   \n",
       "4                0.0                     0.0                       1.0   \n",
       "\n",
       "   INCOME_AMT_10M-50M  INCOME_AMT_1M-5M  INCOME_AMT_25000-99999  \\\n",
       "0                 0.0               0.0                     0.0   \n",
       "1                 0.0               0.0                     0.0   \n",
       "2                 0.0               0.0                     0.0   \n",
       "3                 0.0               0.0                     0.0   \n",
       "4                 0.0               0.0                     0.0   \n",
       "\n",
       "   INCOME_AMT_50M+  INCOME_AMT_5M-10M  SPECIAL_CONSIDERATIONS_N  \\\n",
       "0              0.0                0.0                       1.0   \n",
       "1              0.0                0.0                       1.0   \n",
       "2              0.0                0.0                       1.0   \n",
       "3              0.0                0.0                       1.0   \n",
       "4              0.0                0.0                       1.0   \n",
       "\n",
       "   SPECIAL_CONSIDERATIONS_Y  \n",
       "0                       0.0  \n",
       "1                       0.0  \n",
       "2                       0.0  \n",
       "3                       0.0  \n",
       "4                       0.0  \n",
       "\n",
       "[5 rows x 116 columns]"
      ]
     },
     "execution_count": 291,
     "metadata": {},
     "output_type": "execute_result"
    }
   ],
   "source": [
    "# Define features set X by selecting all columns but IS_SUCCESSFUL\n",
    "X = encoded_df.drop(columns=['IS_SUCCESSFUL'])\n",
    "\n",
    "# Review the features DataFrame\n",
    "# YOUR CODE HERE\n",
    "X.head()"
   ]
  },
  {
   "cell_type": "markdown",
   "metadata": {},
   "source": [
    "### Step 6: Split the features and target sets into training and testing datasets.\n"
   ]
  },
  {
   "cell_type": "code",
   "execution_count": 292,
   "metadata": {},
   "outputs": [],
   "source": [
    "# Split the preprocessed data into a training and testing dataset\n",
    "# Assign the function a random_state equal to 1\n",
    "X_train, X_test, y_train, y_test = train_test_split(X,y,random_state=1)\n"
   ]
  },
  {
   "cell_type": "markdown",
   "metadata": {},
   "source": [
    "### Step 7: Use scikit-learn's `StandardScaler` to scale the features data."
   ]
  },
  {
   "cell_type": "code",
   "execution_count": 293,
   "metadata": {},
   "outputs": [],
   "source": [
    "# Create a StandardScaler instance\n",
    "scaler = StandardScaler()\n",
    "\n",
    "# Fit the scaler to the features training dataset\n",
    "X_scaler = scaler.fit(X_train)\n",
    "\n",
    "# Fit the scaler to the features training dataset\n",
    "X_train_scaled = X_scaler.transform(X_train)\n",
    "X_test_scaled = X_scaler.transform(X_test)\n"
   ]
  },
  {
   "cell_type": "code",
   "execution_count": 294,
   "metadata": {},
   "outputs": [
    {
     "data": {
      "text/plain": [
       "(25724, 116)"
      ]
     },
     "execution_count": 294,
     "metadata": {},
     "output_type": "execute_result"
    }
   ],
   "source": [
    "X_train_scaled.shape"
   ]
  },
  {
   "cell_type": "markdown",
   "metadata": {},
   "source": [
    "---\n",
    "\n",
    "## Compile and Evaluate a Binary Classification Model Using a Neural Network"
   ]
  },
  {
   "cell_type": "markdown",
   "metadata": {},
   "source": [
    "### Step 1: Create a deep neural network by assigning the number of input features, the number of layers, and the number of neurons on each layer using Tensorflow’s Keras.\n",
    "\n",
    "> **Hint** You can start with a two-layer deep neural network model that uses the `relu` activation function for both layers.\n"
   ]
  },
  {
   "cell_type": "code",
   "execution_count": 295,
   "metadata": {},
   "outputs": [
    {
     "data": {
      "text/plain": [
       "116"
      ]
     },
     "execution_count": 295,
     "metadata": {},
     "output_type": "execute_result"
    }
   ],
   "source": [
    "# Define the the number of inputs (features) to the model\n",
    "number_input_features = len(X_train.iloc[0])\n",
    "\n",
    "# Review the number of features\n",
    "number_input_features\n"
   ]
  },
  {
   "cell_type": "code",
   "execution_count": 296,
   "metadata": {},
   "outputs": [],
   "source": [
    "# Define the number of neurons in the output layer\n",
    "number_output_neurons = 1"
   ]
  },
  {
   "cell_type": "code",
   "execution_count": 297,
   "metadata": {},
   "outputs": [
    {
     "data": {
      "text/plain": [
       "58"
      ]
     },
     "execution_count": 297,
     "metadata": {},
     "output_type": "execute_result"
    }
   ],
   "source": [
    "# Define the number of hidden nodes for the first hidden layer\n",
    "hidden_nodes_layer1 = (number_input_features+number_output_neurons)//2\n",
    "\n",
    "# Review the number hidden nodes in the first layer\n",
    "hidden_nodes_layer1\n"
   ]
  },
  {
   "cell_type": "code",
   "execution_count": 298,
   "metadata": {},
   "outputs": [
    {
     "data": {
      "text/plain": [
       "30.0"
      ]
     },
     "execution_count": 298,
     "metadata": {},
     "output_type": "execute_result"
    }
   ],
   "source": [
    "# Define the number of hidden nodes for the second hidden layer\n",
    "hidden_nodes_layer2 =  round((hidden_nodes_layer1+number_output_neurons)/2,0)\n",
    "\n",
    "# Review the number hidden nodes in the second layer\n",
    "hidden_nodes_layer2\n"
   ]
  },
  {
   "cell_type": "code",
   "execution_count": 299,
   "metadata": {},
   "outputs": [],
   "source": [
    "# Create the Sequential model instance\n",
    "nn = Sequential()\n"
   ]
  },
  {
   "cell_type": "code",
   "execution_count": 300,
   "metadata": {},
   "outputs": [],
   "source": [
    "# Add the first hidden layer\n",
    "# YOUR CODE HERE\n",
    "nn.add(Dense(units=hidden_nodes_layer1, input_dim=number_input_features, activation='relu'))"
   ]
  },
  {
   "cell_type": "code",
   "execution_count": 301,
   "metadata": {},
   "outputs": [],
   "source": [
    "# Add the second hidden layer\n",
    "# YOUR CODE HERE\n",
    "nn.add(Dense(units=hidden_nodes_layer2,activation='relu'))"
   ]
  },
  {
   "cell_type": "code",
   "execution_count": 302,
   "metadata": {},
   "outputs": [],
   "source": [
    "# Add the output layer to the model specifying the number of output neurons and activation function\n",
    "# YOUR CODE HERE\n",
    "nn.add(Dense(units=number_output_neurons,activation='sigmoid'))"
   ]
  },
  {
   "cell_type": "code",
   "execution_count": 303,
   "metadata": {},
   "outputs": [
    {
     "name": "stdout",
     "output_type": "stream",
     "text": [
      "Model: \"sequential_12\"\n",
      "_________________________________________________________________\n",
      " Layer (type)                Output Shape              Param #   \n",
      "=================================================================\n",
      " dense_32 (Dense)            (None, 58)                6786      \n",
      "                                                                 \n",
      " dense_33 (Dense)            (None, 30)                1770      \n",
      "                                                                 \n",
      " dense_34 (Dense)            (None, 1)                 31        \n",
      "                                                                 \n",
      "=================================================================\n",
      "Total params: 8,587\n",
      "Trainable params: 8,587\n",
      "Non-trainable params: 0\n",
      "_________________________________________________________________\n"
     ]
    }
   ],
   "source": [
    "# Display the Sequential model summary\n",
    "# YOUR CODE HERE\n",
    "nn.summary()"
   ]
  },
  {
   "cell_type": "markdown",
   "metadata": {},
   "source": [
    "### Step 2: Compile and fit the model using the `binary_crossentropy` loss function, the `adam` optimizer, and the `accuracy` evaluation metric.\n"
   ]
  },
  {
   "cell_type": "code",
   "execution_count": 304,
   "metadata": {},
   "outputs": [],
   "source": [
    "# Compile the Sequential model\n",
    "# YOUR CODE HERE\n",
    "nn.compile(loss=\"binary_crossentropy\", optimizer=\"adam\", metrics=[\"accuracy\"])"
   ]
  },
  {
   "cell_type": "code",
   "execution_count": 305,
   "metadata": {},
   "outputs": [
    {
     "name": "stdout",
     "output_type": "stream",
     "text": [
      "Epoch 1/50\n",
      "804/804 [==============================] - 4s 4ms/step - loss: 0.5726 - accuracy: 0.7191 - val_loss: 0.5616 - val_accuracy: 0.7277\n",
      "Epoch 2/50\n",
      "804/804 [==============================] - 3s 4ms/step - loss: 0.5534 - accuracy: 0.7289 - val_loss: 0.5586 - val_accuracy: 0.7300\n",
      "Epoch 3/50\n",
      "804/804 [==============================] - 3s 4ms/step - loss: 0.5493 - accuracy: 0.7310 - val_loss: 0.5559 - val_accuracy: 0.7320\n",
      "Epoch 4/50\n",
      "804/804 [==============================] - 3s 4ms/step - loss: 0.5471 - accuracy: 0.7322 - val_loss: 0.5570 - val_accuracy: 0.7301\n",
      "Epoch 5/50\n",
      "804/804 [==============================] - 3s 4ms/step - loss: 0.5464 - accuracy: 0.7324 - val_loss: 0.5559 - val_accuracy: 0.7287\n",
      "Epoch 6/50\n",
      "804/804 [==============================] - 3s 4ms/step - loss: 0.5453 - accuracy: 0.7320 - val_loss: 0.5542 - val_accuracy: 0.7305\n",
      "Epoch 7/50\n",
      "804/804 [==============================] - 3s 4ms/step - loss: 0.5445 - accuracy: 0.7311 - val_loss: 0.5520 - val_accuracy: 0.7322\n",
      "Epoch 8/50\n",
      "804/804 [==============================] - 3s 4ms/step - loss: 0.5433 - accuracy: 0.7341 - val_loss: 0.5548 - val_accuracy: 0.7287\n",
      "Epoch 9/50\n",
      "804/804 [==============================] - 3s 4ms/step - loss: 0.5434 - accuracy: 0.7331 - val_loss: 0.5534 - val_accuracy: 0.7308\n",
      "Epoch 10/50\n",
      "804/804 [==============================] - 3s 4ms/step - loss: 0.5427 - accuracy: 0.7354 - val_loss: 0.5522 - val_accuracy: 0.7297\n",
      "Epoch 11/50\n",
      "804/804 [==============================] - 3s 4ms/step - loss: 0.5417 - accuracy: 0.7353 - val_loss: 0.5521 - val_accuracy: 0.7303\n",
      "Epoch 12/50\n",
      "804/804 [==============================] - 3s 4ms/step - loss: 0.5412 - accuracy: 0.7349 - val_loss: 0.5532 - val_accuracy: 0.7301\n",
      "Epoch 13/50\n",
      "804/804 [==============================] - 3s 4ms/step - loss: 0.5415 - accuracy: 0.7352 - val_loss: 0.5525 - val_accuracy: 0.7306\n",
      "Epoch 14/50\n",
      "804/804 [==============================] - 3s 4ms/step - loss: 0.5400 - accuracy: 0.7353 - val_loss: 0.5560 - val_accuracy: 0.7300\n",
      "Epoch 15/50\n",
      "804/804 [==============================] - 3s 4ms/step - loss: 0.5399 - accuracy: 0.7365 - val_loss: 0.5542 - val_accuracy: 0.7315\n",
      "Epoch 16/50\n",
      "804/804 [==============================] - 3s 4ms/step - loss: 0.5395 - accuracy: 0.7367 - val_loss: 0.5533 - val_accuracy: 0.7313\n",
      "Epoch 17/50\n",
      "804/804 [==============================] - 3s 4ms/step - loss: 0.5389 - accuracy: 0.7357 - val_loss: 0.5546 - val_accuracy: 0.7324\n",
      "Epoch 18/50\n",
      "804/804 [==============================] - 3s 4ms/step - loss: 0.5387 - accuracy: 0.7374 - val_loss: 0.5616 - val_accuracy: 0.7245\n",
      "Epoch 19/50\n",
      "804/804 [==============================] - 3s 4ms/step - loss: 0.5379 - accuracy: 0.7376 - val_loss: 0.5524 - val_accuracy: 0.7308\n",
      "Epoch 20/50\n",
      "804/804 [==============================] - 3s 4ms/step - loss: 0.5380 - accuracy: 0.7374 - val_loss: 0.5504 - val_accuracy: 0.7321\n",
      "Epoch 21/50\n",
      "804/804 [==============================] - 3s 4ms/step - loss: 0.5380 - accuracy: 0.7381 - val_loss: 0.5548 - val_accuracy: 0.7299\n",
      "Epoch 22/50\n",
      "804/804 [==============================] - 3s 4ms/step - loss: 0.5371 - accuracy: 0.7379 - val_loss: 0.5573 - val_accuracy: 0.7324\n",
      "Epoch 23/50\n",
      "804/804 [==============================] - 3s 4ms/step - loss: 0.5373 - accuracy: 0.7383 - val_loss: 0.5547 - val_accuracy: 0.7300\n",
      "Epoch 24/50\n",
      "804/804 [==============================] - 3s 4ms/step - loss: 0.5366 - accuracy: 0.7385 - val_loss: 0.5540 - val_accuracy: 0.7283\n",
      "Epoch 25/50\n",
      "804/804 [==============================] - 3s 4ms/step - loss: 0.5366 - accuracy: 0.7390 - val_loss: 0.5532 - val_accuracy: 0.7296\n",
      "Epoch 26/50\n",
      "804/804 [==============================] - 3s 4ms/step - loss: 0.5362 - accuracy: 0.7392 - val_loss: 0.5574 - val_accuracy: 0.7282\n",
      "Epoch 27/50\n",
      "804/804 [==============================] - 3s 4ms/step - loss: 0.5360 - accuracy: 0.7394 - val_loss: 0.5559 - val_accuracy: 0.7315\n",
      "Epoch 28/50\n",
      "804/804 [==============================] - 3s 4ms/step - loss: 0.5354 - accuracy: 0.7391 - val_loss: 0.5551 - val_accuracy: 0.7298\n",
      "Epoch 29/50\n",
      "804/804 [==============================] - 3s 4ms/step - loss: 0.5356 - accuracy: 0.7394 - val_loss: 0.5528 - val_accuracy: 0.7314\n",
      "Epoch 30/50\n",
      "804/804 [==============================] - 3s 4ms/step - loss: 0.5354 - accuracy: 0.7393 - val_loss: 0.5543 - val_accuracy: 0.7315\n",
      "Epoch 31/50\n",
      "804/804 [==============================] - 2s 2ms/step - loss: 0.5349 - accuracy: 0.7392 - val_loss: 0.5523 - val_accuracy: 0.7310\n",
      "Epoch 32/50\n",
      "804/804 [==============================] - 2s 2ms/step - loss: 0.5349 - accuracy: 0.7392 - val_loss: 0.5518 - val_accuracy: 0.7319\n",
      "Epoch 33/50\n",
      "804/804 [==============================] - 2s 2ms/step - loss: 0.5341 - accuracy: 0.7388 - val_loss: 0.5530 - val_accuracy: 0.7299\n",
      "Epoch 34/50\n",
      "804/804 [==============================] - 2s 2ms/step - loss: 0.5343 - accuracy: 0.7402 - val_loss: 0.5512 - val_accuracy: 0.7321\n",
      "Epoch 35/50\n",
      "804/804 [==============================] - 2s 2ms/step - loss: 0.5340 - accuracy: 0.7400 - val_loss: 0.5558 - val_accuracy: 0.7307\n",
      "Epoch 36/50\n",
      "804/804 [==============================] - 2s 2ms/step - loss: 0.5341 - accuracy: 0.7402 - val_loss: 0.5517 - val_accuracy: 0.7318\n",
      "Epoch 37/50\n",
      "804/804 [==============================] - 2s 2ms/step - loss: 0.5336 - accuracy: 0.7405 - val_loss: 0.5531 - val_accuracy: 0.7329\n",
      "Epoch 38/50\n",
      "804/804 [==============================] - 2s 2ms/step - loss: 0.5339 - accuracy: 0.7401 - val_loss: 0.5529 - val_accuracy: 0.7303\n",
      "Epoch 39/50\n",
      "804/804 [==============================] - 2s 2ms/step - loss: 0.5337 - accuracy: 0.7401 - val_loss: 0.5546 - val_accuracy: 0.7308\n",
      "Epoch 40/50\n",
      "804/804 [==============================] - 2s 2ms/step - loss: 0.5335 - accuracy: 0.7402 - val_loss: 0.5543 - val_accuracy: 0.7299\n",
      "Epoch 41/50\n",
      "804/804 [==============================] - 2s 2ms/step - loss: 0.5337 - accuracy: 0.7404 - val_loss: 0.5523 - val_accuracy: 0.7313\n",
      "Epoch 42/50\n",
      "804/804 [==============================] - 2s 2ms/step - loss: 0.5331 - accuracy: 0.7411 - val_loss: 0.5544 - val_accuracy: 0.7296\n",
      "Epoch 43/50\n",
      "804/804 [==============================] - 2s 2ms/step - loss: 0.5328 - accuracy: 0.7412 - val_loss: 0.5538 - val_accuracy: 0.7291\n",
      "Epoch 44/50\n",
      "804/804 [==============================] - 2s 2ms/step - loss: 0.5329 - accuracy: 0.7410 - val_loss: 0.5520 - val_accuracy: 0.7321\n",
      "Epoch 45/50\n",
      "804/804 [==============================] - 2s 2ms/step - loss: 0.5328 - accuracy: 0.7408 - val_loss: 0.5554 - val_accuracy: 0.7250\n",
      "Epoch 46/50\n",
      "804/804 [==============================] - 2s 2ms/step - loss: 0.5325 - accuracy: 0.7418 - val_loss: 0.5518 - val_accuracy: 0.7314\n",
      "Epoch 47/50\n",
      "804/804 [==============================] - 2s 2ms/step - loss: 0.5324 - accuracy: 0.7405 - val_loss: 0.5562 - val_accuracy: 0.7296\n",
      "Epoch 48/50\n",
      "804/804 [==============================] - 2s 2ms/step - loss: 0.5323 - accuracy: 0.7404 - val_loss: 0.5535 - val_accuracy: 0.7306\n",
      "Epoch 49/50\n",
      "804/804 [==============================] - 2s 2ms/step - loss: 0.5323 - accuracy: 0.7413 - val_loss: 0.5548 - val_accuracy: 0.7301\n",
      "Epoch 50/50\n",
      "804/804 [==============================] - 2s 2ms/step - loss: 0.5323 - accuracy: 0.7414 - val_loss: 0.5533 - val_accuracy: 0.7303\n"
     ]
    }
   ],
   "source": [
    "# Fit the model using 50 epochs and the training data\n",
    "# YOUR CODE HERE\n",
    "fit_model = nn.fit(\n",
    "    X_train_scaled, \n",
    "    y_train, \n",
    "    epochs=50,\n",
    "    validation_data=(X_test_scaled, y_test)\n",
    ")"
   ]
  },
  {
   "cell_type": "code",
   "execution_count": 306,
   "metadata": {},
   "outputs": [
    {
     "data": {
      "image/png": "[encoded data removed]",
      "text/plain": [
       "<Figure size 432x288 with 1 Axes>"
      ]
     },
     "metadata": {
      "needs_background": "light"
     },
     "output_type": "display_data"
    }
   ],
   "source": [
    "# Plot loss function for original model\n",
    "plt.plot(fit_model.history['loss'])\n",
    "plt.plot(fit_model.history['val_loss'])\n",
    "plt.title('Loss function for Original Model')\n",
    "plt.ylabel('Loss')\n",
    "plt.xlabel('Epoch')\n",
    "plt.legend(['Train', 'Test/Validation'])                                    \n",
    "plt.show()"
   ]
  },
  {
   "cell_type": "code",
   "execution_count": 307,
   "metadata": {},
   "outputs": [
    {
     "data": {
      "image/png": "[encoded data removed]",
      "text/plain": [
       "<Figure size 432x288 with 1 Axes>"
      ]
     },
     "metadata": {
      "needs_background": "light"
     },
     "output_type": "display_data"
    }
   ],
   "source": [
    "# Plot accuracy metric for original model\n",
    "\n",
    "plt.plot(fit_model.history['accuracy'])\n",
    "plt.plot(fit_model.history['val_accuracy'])\n",
    "plt.title('Accuracy for Original Model')\n",
    "plt.ylabel('Accuracy')\n",
    "plt.xlabel('Epoch')\n",
    "plt.legend(['Train', 'Test/Validation'])                                 \n",
    "plt.show()"
   ]
  },
  {
   "cell_type": "markdown",
   "metadata": {},
   "source": [
    "### Step 3: Evaluate the model using the test data to determine the model’s loss and accuracy.\n"
   ]
  },
  {
   "cell_type": "code",
   "execution_count": 308,
   "metadata": {},
   "outputs": [
    {
     "name": "stdout",
     "output_type": "stream",
     "text": [
      "268/268 - 0s - loss: 0.5533 - accuracy: 0.7303 - 396ms/epoch - 1ms/step\n",
      "Loss: 0.5532585382461548, Accuracy: 0.7302623987197876\n"
     ]
    }
   ],
   "source": [
    "# Evaluate the model loss and accuracy metrics using the evaluate method and the test data\n",
    "model_loss, model_accuracy = nn.evaluate(X_test_scaled,y_test,verbose=2)\n",
    "\n",
    "# Display the model loss and accuracy results\n",
    "print(f\"Loss: {model_loss}, Accuracy: {model_accuracy}\")"
   ]
  },
  {
   "cell_type": "markdown",
   "metadata": {},
   "source": [
    "### Step 4: Save and export your model to an HDF5 file, and name the file `AlphabetSoup.h5`. \n"
   ]
  },
  {
   "cell_type": "code",
   "execution_count": 309,
   "metadata": {},
   "outputs": [],
   "source": [
    "# Set the model's file path\n",
    "file_path = Path(\"./Resources/AlphabetSoup.h5\")\n",
    "\n",
    "# Export your model to a HDF5 file\n",
    "# YOUR CODE HERE\n",
    "nn.save(file_path)"
   ]
  },
  {
   "cell_type": "markdown",
   "metadata": {},
   "source": [
    "---\n",
    "\n",
    "## Optimize the neural network model\n"
   ]
  },
  {
   "cell_type": "markdown",
   "metadata": {},
   "source": [
    "### Step 1: Define at least three new deep neural network models (resulting in the original plus 3 optimization attempts). With each, try to improve on your first model’s predictive accuracy.\n",
    "\n",
    "> **Rewind** Recall that perfect accuracy has a value of 1, so accuracy improves as its value moves closer to 1. To optimize your model for a predictive accuracy as close to 1 as possible, you can use any or all of the following techniques:\n",
    ">\n",
    "> * Adjust the input data by dropping different features columns to ensure that no variables or outliers confuse the model.\n",
    ">\n",
    "> * Add more neurons (nodes) to a hidden layer.\n",
    ">\n",
    "> * Add more hidden layers.\n",
    ">\n",
    "> * Use different activation functions for the hidden layers.\n",
    ">\n",
    "> * Add to or reduce the number of epochs in the training regimen.\n"
   ]
  },
  {
   "cell_type": "code",
   "execution_count": 310,
   "metadata": {},
   "outputs": [
    {
     "name": "stdout",
     "output_type": "stream",
     "text": [
      " unique values for APPLICATION_TYPE are : \n",
      "['T10' 'T3' 'T5' 'T7' 'T4' 'T6' 'T2' 'T9' 'T19' 'T8' 'T13' 'T12' 'T29'\n",
      " 'T25' 'T14' 'T17' 'T15']\n",
      " unique values for AFFILIATION are : \n",
      "['Independent' 'CompanySponsored' 'Family/Parent' 'National' 'Regional'\n",
      " 'Other']\n",
      " unique values for CLASSIFICATION are : \n",
      "['C1000' 'C2000' 'C3000' 'C1200' 'C2700' 'C7000' 'C7200' 'C1700' 'C4000'\n",
      " 'C7100' 'C2800' 'C6000' 'C2100' 'C1238' 'C5000' 'C7120' 'C1800' 'C4100'\n",
      " 'C1400' 'C1270' 'C2300' 'C8200' 'C1500' 'C7210' 'C1300' 'C1230' 'C1280'\n",
      " 'C1240' 'C2710' 'C2561' 'C1250' 'C8000' 'C1245' 'C1260' 'C1235' 'C1720'\n",
      " 'C1257' 'C4500' 'C2400' 'C8210' 'C1600' 'C1278' 'C1237' 'C4120' 'C2170'\n",
      " 'C1728' 'C1732' 'C2380' 'C1283' 'C1570' 'C2500' 'C1267' 'C3700' 'C1580'\n",
      " 'C2570' 'C1256' 'C1236' 'C1234' 'C1246' 'C2190' 'C4200' 'C0' 'C3200'\n",
      " 'C5200' 'C1370' 'C2600' 'C1248' 'C6100' 'C1820' 'C1900' 'C2150']\n",
      " unique values for USE_CASE are : \n",
      "['ProductDev' 'Preservation' 'Heathcare' 'CommunityServ' 'Other']\n",
      " unique values for ORGANIZATION are : \n",
      "['Association' 'Co-operative' 'Trust' 'Corporation']\n",
      " unique values for STATUS are : \n",
      "[1 0]\n",
      " unique values for INCOME_AMT are : \n",
      "['0' '1-9999' '10000-24999' '100000-499999' '10M-50M' '25000-99999' '50M+'\n",
      " '1M-5M' '5M-10M']\n",
      " unique values for SPECIAL_CONSIDERATIONS are : \n",
      "['N' 'Y']\n",
      " unique values for ASK_AMT are : \n",
      "[    5000   108590     6692 ...     6713    20197 36500179]\n",
      " unique values for IS_SUCCESSFUL are : \n",
      "[1 0]\n"
     ]
    }
   ],
   "source": [
    "# let us look at field variations\n",
    "for i in list(applicant_data_df.columns):\n",
    "    print(f' unique values for {i} are : ')\n",
    "    print(f'{applicant_data_df[i].unique()}')"
   ]
  },
  {
   "cell_type": "code",
   "execution_count": 311,
   "metadata": {},
   "outputs": [],
   "source": [
    "# since 'SPECIAL_CONSIDERATIONS' column has only 2 values, the encoded columns SPECIAL_CONSIDERATIONS_N and SPECIAL_CONSIDERATIONS_Y are correlated. \n",
    "# If one knows one column value, we can figure out other column's value. Hence it is better to drop one of these column to reduce one input feature."
   ]
  },
  {
   "cell_type": "code",
   "execution_count": 312,
   "metadata": {},
   "outputs": [],
   "source": [
    "X_train = X_train.drop(columns=['SPECIAL_CONSIDERATIONS_Y'])\n",
    "X_test = X_test.drop(columns=['SPECIAL_CONSIDERATIONS_Y'])"
   ]
  },
  {
   "cell_type": "code",
   "execution_count": 313,
   "metadata": {},
   "outputs": [],
   "source": [
    "# perform scaling again\n",
    "scaler = StandardScaler()\n",
    "\n",
    "# Fit the scaler to the features training dataset\n",
    "X_scaler = scaler.fit(X_train)\n",
    "\n",
    "# Fit the scaler to the features training dataset\n",
    "X_train_scaled_n = X_scaler.transform(X_train)\n",
    "X_test_scaled_n = X_scaler.transform(X_test)"
   ]
  },
  {
   "cell_type": "markdown",
   "metadata": {},
   "source": [
    "### Alternative Model 1"
   ]
  },
  {
   "cell_type": "code",
   "execution_count": 314,
   "metadata": {},
   "outputs": [
    {
     "data": {
      "text/plain": [
       "115"
      ]
     },
     "execution_count": 314,
     "metadata": {},
     "output_type": "execute_result"
    }
   ],
   "source": [
    "# Define the the number of inputs (features) to the model\n",
    "number_input_features = len(X_train.iloc[0])\n",
    "\n",
    "# Review the number of features\n",
    "number_input_features"
   ]
  },
  {
   "cell_type": "code",
   "execution_count": 315,
   "metadata": {},
   "outputs": [],
   "source": [
    "# Define the number of neurons in the output layer\n",
    "number_output_neurons_A1 = 1\n"
   ]
  },
  {
   "cell_type": "code",
   "execution_count": 316,
   "metadata": {},
   "outputs": [
    {
     "data": {
      "text/plain": [
       "58.0"
      ]
     },
     "execution_count": 316,
     "metadata": {},
     "output_type": "execute_result"
    }
   ],
   "source": [
    "# Define the number of hidden nodes for the first hidden layer\n",
    "hidden_nodes_layer1_A1 = round((number_input_features+number_output_neurons_A1)/2,0)\n",
    "\n",
    "# Review the number of hidden nodes in the first layer\n",
    "hidden_nodes_layer1_A1"
   ]
  },
  {
   "cell_type": "code",
   "execution_count": 317,
   "metadata": {},
   "outputs": [],
   "source": [
    "# Create the Sequential model instance\n",
    "nn_A1 = Sequential()"
   ]
  },
  {
   "cell_type": "code",
   "execution_count": 318,
   "metadata": {},
   "outputs": [
    {
     "name": "stdout",
     "output_type": "stream",
     "text": [
      "Model: \"sequential_13\"\n",
      "_________________________________________________________________\n",
      " Layer (type)                Output Shape              Param #   \n",
      "=================================================================\n",
      " dense_35 (Dense)            (None, 58)                6728      \n",
      "                                                                 \n",
      " dense_36 (Dense)            (None, 1)                 59        \n",
      "                                                                 \n",
      "=================================================================\n",
      "Total params: 6,787\n",
      "Trainable params: 6,787\n",
      "Non-trainable params: 0\n",
      "_________________________________________________________________\n"
     ]
    }
   ],
   "source": [
    "# First hidden layer\n",
    "# YOUR CODE HERE\n",
    "nn_A1.add(Dense(units=hidden_nodes_layer1_A1, input_dim=number_input_features, activation='relu'))\n",
    "\n",
    "# Output layer\n",
    "# YOUR CODE HERE\n",
    "nn_A1.add(Dense(units=number_output_neurons_A1, activation='sigmoid'))\n",
    "\n",
    "# Check the structure of the model\n",
    "# YOUR CODE HERE\n",
    "nn_A1.summary()"
   ]
  },
  {
   "cell_type": "code",
   "execution_count": 319,
   "metadata": {},
   "outputs": [],
   "source": [
    "# Compile the Sequential model\n",
    "nn_A1.compile(loss=\"binary_crossentropy\", optimizer=\"adam\", metrics=[\"accuracy\"])"
   ]
  },
  {
   "cell_type": "code",
   "execution_count": 320,
   "metadata": {},
   "outputs": [
    {
     "name": "stdout",
     "output_type": "stream",
     "text": [
      "Epoch 1/100\n",
      "804/804 [==============================] - 3s 2ms/step - loss: 0.5849 - accuracy: 0.7169 - val_loss: 0.5688 - val_accuracy: 0.7277\n",
      "Epoch 2/100\n",
      "804/804 [==============================] - 2s 2ms/step - loss: 0.5585 - accuracy: 0.7269 - val_loss: 0.5609 - val_accuracy: 0.7289\n",
      "Epoch 3/100\n",
      "804/804 [==============================] - 2s 2ms/step - loss: 0.5538 - accuracy: 0.7291 - val_loss: 0.5625 - val_accuracy: 0.7258\n",
      "Epoch 4/100\n",
      "804/804 [==============================] - 2s 2ms/step - loss: 0.5515 - accuracy: 0.7287 - val_loss: 0.5585 - val_accuracy: 0.7259\n",
      "Epoch 5/100\n",
      "804/804 [==============================] - 2s 2ms/step - loss: 0.5500 - accuracy: 0.7309 - val_loss: 0.5602 - val_accuracy: 0.7285\n",
      "Epoch 6/100\n",
      "804/804 [==============================] - 2s 2ms/step - loss: 0.5492 - accuracy: 0.7311 - val_loss: 0.5617 - val_accuracy: 0.7287\n",
      "Epoch 7/100\n",
      "804/804 [==============================] - 2s 2ms/step - loss: 0.5479 - accuracy: 0.7323 - val_loss: 0.5572 - val_accuracy: 0.7322\n",
      "Epoch 8/100\n",
      "804/804 [==============================] - 2s 2ms/step - loss: 0.5474 - accuracy: 0.7323 - val_loss: 0.5574 - val_accuracy: 0.7305\n",
      "Epoch 9/100\n",
      "804/804 [==============================] - 2s 2ms/step - loss: 0.5473 - accuracy: 0.7318 - val_loss: 0.5582 - val_accuracy: 0.7303\n",
      "Epoch 10/100\n",
      "804/804 [==============================] - 2s 2ms/step - loss: 0.5463 - accuracy: 0.7314 - val_loss: 0.5567 - val_accuracy: 0.7285\n",
      "Epoch 11/100\n",
      "804/804 [==============================] - 2s 2ms/step - loss: 0.5459 - accuracy: 0.7318 - val_loss: 0.5590 - val_accuracy: 0.7280\n",
      "Epoch 12/100\n",
      "804/804 [==============================] - 2s 2ms/step - loss: 0.5451 - accuracy: 0.7327 - val_loss: 0.5589 - val_accuracy: 0.7318\n",
      "Epoch 13/100\n",
      "804/804 [==============================] - 2s 2ms/step - loss: 0.5449 - accuracy: 0.7333 - val_loss: 0.5573 - val_accuracy: 0.7322\n",
      "Epoch 14/100\n",
      "804/804 [==============================] - 2s 2ms/step - loss: 0.5442 - accuracy: 0.7331 - val_loss: 0.5577 - val_accuracy: 0.7314\n",
      "Epoch 15/100\n",
      "804/804 [==============================] - 2s 2ms/step - loss: 0.5441 - accuracy: 0.7342 - val_loss: 0.5578 - val_accuracy: 0.7272\n",
      "Epoch 16/100\n",
      "804/804 [==============================] - 2s 2ms/step - loss: 0.5431 - accuracy: 0.7331 - val_loss: 0.5556 - val_accuracy: 0.7313\n",
      "Epoch 17/100\n",
      "804/804 [==============================] - 2s 2ms/step - loss: 0.5435 - accuracy: 0.7340 - val_loss: 0.5606 - val_accuracy: 0.7315\n",
      "Epoch 18/100\n",
      "804/804 [==============================] - 2s 2ms/step - loss: 0.5429 - accuracy: 0.7336 - val_loss: 0.5573 - val_accuracy: 0.7290\n",
      "Epoch 19/100\n",
      "804/804 [==============================] - 2s 2ms/step - loss: 0.5424 - accuracy: 0.7350 - val_loss: 0.5568 - val_accuracy: 0.7305\n",
      "Epoch 20/100\n",
      "804/804 [==============================] - 2s 2ms/step - loss: 0.5427 - accuracy: 0.7342 - val_loss: 0.5580 - val_accuracy: 0.7320\n",
      "Epoch 21/100\n",
      "804/804 [==============================] - 2s 2ms/step - loss: 0.5423 - accuracy: 0.7343 - val_loss: 0.5568 - val_accuracy: 0.7303\n",
      "Epoch 22/100\n",
      "804/804 [==============================] - 2s 2ms/step - loss: 0.5421 - accuracy: 0.7346 - val_loss: 0.5609 - val_accuracy: 0.7278\n",
      "Epoch 23/100\n",
      "804/804 [==============================] - 2s 2ms/step - loss: 0.5416 - accuracy: 0.7344 - val_loss: 0.5578 - val_accuracy: 0.7282\n",
      "Epoch 24/100\n",
      "804/804 [==============================] - 2s 2ms/step - loss: 0.5417 - accuracy: 0.7345 - val_loss: 0.5600 - val_accuracy: 0.7313\n",
      "Epoch 25/100\n",
      "804/804 [==============================] - 2s 2ms/step - loss: 0.5413 - accuracy: 0.7344 - val_loss: 0.5574 - val_accuracy: 0.7312\n",
      "Epoch 26/100\n",
      "804/804 [==============================] - 2s 2ms/step - loss: 0.5404 - accuracy: 0.7354 - val_loss: 0.5593 - val_accuracy: 0.7334\n",
      "Epoch 27/100\n",
      "804/804 [==============================] - 2s 2ms/step - loss: 0.5409 - accuracy: 0.7348 - val_loss: 0.5553 - val_accuracy: 0.7322\n",
      "Epoch 28/100\n",
      "804/804 [==============================] - 2s 2ms/step - loss: 0.5402 - accuracy: 0.7345 - val_loss: 0.5561 - val_accuracy: 0.7314\n",
      "Epoch 29/100\n",
      "804/804 [==============================] - 2s 2ms/step - loss: 0.5410 - accuracy: 0.7336 - val_loss: 0.5576 - val_accuracy: 0.7308\n",
      "Epoch 30/100\n",
      "804/804 [==============================] - 2s 2ms/step - loss: 0.5405 - accuracy: 0.7343 - val_loss: 0.5596 - val_accuracy: 0.7278\n",
      "Epoch 31/100\n",
      "804/804 [==============================] - 2s 2ms/step - loss: 0.5399 - accuracy: 0.7372 - val_loss: 0.5610 - val_accuracy: 0.7294\n",
      "Epoch 32/100\n",
      "804/804 [==============================] - 2s 2ms/step - loss: 0.5398 - accuracy: 0.7360 - val_loss: 0.5568 - val_accuracy: 0.7314\n",
      "Epoch 33/100\n",
      "804/804 [==============================] - 2s 2ms/step - loss: 0.5394 - accuracy: 0.7372 - val_loss: 0.5596 - val_accuracy: 0.7306\n",
      "Epoch 34/100\n",
      "804/804 [==============================] - 2s 2ms/step - loss: 0.5395 - accuracy: 0.7367 - val_loss: 0.5559 - val_accuracy: 0.7312\n",
      "Epoch 35/100\n",
      "804/804 [==============================] - 2s 2ms/step - loss: 0.5394 - accuracy: 0.7360 - val_loss: 0.5569 - val_accuracy: 0.7289\n",
      "Epoch 36/100\n",
      "804/804 [==============================] - 2s 2ms/step - loss: 0.5394 - accuracy: 0.7362 - val_loss: 0.5582 - val_accuracy: 0.7301\n",
      "Epoch 37/100\n",
      "804/804 [==============================] - 2s 2ms/step - loss: 0.5390 - accuracy: 0.7354 - val_loss: 0.5626 - val_accuracy: 0.7300\n",
      "Epoch 38/100\n",
      "804/804 [==============================] - 2s 2ms/step - loss: 0.5388 - accuracy: 0.7378 - val_loss: 0.5563 - val_accuracy: 0.7304\n",
      "Epoch 39/100\n",
      "804/804 [==============================] - 2s 2ms/step - loss: 0.5387 - accuracy: 0.7367 - val_loss: 0.5552 - val_accuracy: 0.7329\n",
      "Epoch 40/100\n",
      "804/804 [==============================] - 2s 2ms/step - loss: 0.5389 - accuracy: 0.7364 - val_loss: 0.5579 - val_accuracy: 0.7315\n",
      "Epoch 41/100\n",
      "804/804 [==============================] - 2s 2ms/step - loss: 0.5384 - accuracy: 0.7373 - val_loss: 0.5541 - val_accuracy: 0.7303\n",
      "Epoch 42/100\n",
      "804/804 [==============================] - 2s 2ms/step - loss: 0.5386 - accuracy: 0.7369 - val_loss: 0.5544 - val_accuracy: 0.7314\n",
      "Epoch 43/100\n",
      "804/804 [==============================] - 2s 2ms/step - loss: 0.5385 - accuracy: 0.7352 - val_loss: 0.5576 - val_accuracy: 0.7306\n",
      "Epoch 44/100\n",
      "804/804 [==============================] - 2s 2ms/step - loss: 0.5384 - accuracy: 0.7375 - val_loss: 0.5535 - val_accuracy: 0.7326\n",
      "Epoch 45/100\n",
      "804/804 [==============================] - 2s 2ms/step - loss: 0.5383 - accuracy: 0.7374 - val_loss: 0.5588 - val_accuracy: 0.7300\n",
      "Epoch 46/100\n",
      "804/804 [==============================] - 2s 2ms/step - loss: 0.5380 - accuracy: 0.7367 - val_loss: 0.5594 - val_accuracy: 0.7303\n",
      "Epoch 47/100\n",
      "804/804 [==============================] - 2s 2ms/step - loss: 0.5381 - accuracy: 0.7378 - val_loss: 0.5601 - val_accuracy: 0.7304\n",
      "Epoch 48/100\n",
      "804/804 [==============================] - 2s 2ms/step - loss: 0.5378 - accuracy: 0.7373 - val_loss: 0.5564 - val_accuracy: 0.7305\n",
      "Epoch 49/100\n",
      "804/804 [==============================] - 2s 2ms/step - loss: 0.5377 - accuracy: 0.7376 - val_loss: 0.5584 - val_accuracy: 0.7307\n",
      "Epoch 50/100\n",
      "804/804 [==============================] - 2s 2ms/step - loss: 0.5376 - accuracy: 0.7380 - val_loss: 0.5632 - val_accuracy: 0.7319\n",
      "Epoch 51/100\n",
      "804/804 [==============================] - 2s 2ms/step - loss: 0.5375 - accuracy: 0.7371 - val_loss: 0.5591 - val_accuracy: 0.7298\n",
      "Epoch 52/100\n",
      "804/804 [==============================] - 2s 2ms/step - loss: 0.5376 - accuracy: 0.7374 - val_loss: 0.5581 - val_accuracy: 0.7315\n",
      "Epoch 53/100\n",
      "804/804 [==============================] - 2s 2ms/step - loss: 0.5375 - accuracy: 0.7367 - val_loss: 0.5622 - val_accuracy: 0.7317\n",
      "Epoch 54/100\n",
      "804/804 [==============================] - 2s 2ms/step - loss: 0.5369 - accuracy: 0.7387 - val_loss: 0.5604 - val_accuracy: 0.7331\n",
      "Epoch 55/100\n",
      "804/804 [==============================] - 2s 2ms/step - loss: 0.5370 - accuracy: 0.7371 - val_loss: 0.5595 - val_accuracy: 0.7304\n",
      "Epoch 56/100\n",
      "804/804 [==============================] - 2s 2ms/step - loss: 0.5369 - accuracy: 0.7374 - val_loss: 0.5616 - val_accuracy: 0.7324\n",
      "Epoch 57/100\n",
      "804/804 [==============================] - 2s 2ms/step - loss: 0.5368 - accuracy: 0.7388 - val_loss: 0.5581 - val_accuracy: 0.7322\n",
      "Epoch 58/100\n",
      "804/804 [==============================] - 2s 2ms/step - loss: 0.5370 - accuracy: 0.7381 - val_loss: 0.5640 - val_accuracy: 0.7301\n",
      "Epoch 59/100\n",
      "804/804 [==============================] - 2s 2ms/step - loss: 0.5368 - accuracy: 0.7365 - val_loss: 0.5623 - val_accuracy: 0.7327\n",
      "Epoch 60/100\n",
      "804/804 [==============================] - 2s 2ms/step - loss: 0.5378 - accuracy: 0.7381 - val_loss: 0.5557 - val_accuracy: 0.7293\n",
      "Epoch 61/100\n",
      "804/804 [==============================] - 2s 2ms/step - loss: 0.5367 - accuracy: 0.7384 - val_loss: 0.5589 - val_accuracy: 0.7313\n",
      "Epoch 62/100\n",
      "804/804 [==============================] - 2s 2ms/step - loss: 0.5368 - accuracy: 0.7376 - val_loss: 0.5637 - val_accuracy: 0.7266\n",
      "Epoch 63/100\n",
      "804/804 [==============================] - 2s 2ms/step - loss: 0.5366 - accuracy: 0.7382 - val_loss: 0.5568 - val_accuracy: 0.7307\n",
      "Epoch 64/100\n",
      "804/804 [==============================] - 2s 2ms/step - loss: 0.5366 - accuracy: 0.7369 - val_loss: 0.5569 - val_accuracy: 0.7328\n",
      "Epoch 65/100\n",
      "804/804 [==============================] - 2s 2ms/step - loss: 0.5362 - accuracy: 0.7388 - val_loss: 0.5638 - val_accuracy: 0.7235\n",
      "Epoch 66/100\n",
      "804/804 [==============================] - 2s 2ms/step - loss: 0.5356 - accuracy: 0.7373 - val_loss: 0.5590 - val_accuracy: 0.7311\n",
      "Epoch 67/100\n",
      "804/804 [==============================] - 2s 2ms/step - loss: 0.5366 - accuracy: 0.7380 - val_loss: 0.5583 - val_accuracy: 0.7299\n",
      "Epoch 68/100\n",
      "804/804 [==============================] - 2s 2ms/step - loss: 0.5363 - accuracy: 0.7386 - val_loss: 0.5593 - val_accuracy: 0.7327\n",
      "Epoch 69/100\n",
      "804/804 [==============================] - 2s 2ms/step - loss: 0.5365 - accuracy: 0.7378 - val_loss: 0.5634 - val_accuracy: 0.7299\n",
      "Epoch 70/100\n",
      "804/804 [==============================] - 2s 2ms/step - loss: 0.5355 - accuracy: 0.7383 - val_loss: 0.5614 - val_accuracy: 0.7266\n",
      "Epoch 71/100\n",
      "804/804 [==============================] - 2s 2ms/step - loss: 0.5355 - accuracy: 0.7386 - val_loss: 0.5611 - val_accuracy: 0.7292\n",
      "Epoch 72/100\n",
      "804/804 [==============================] - 2s 2ms/step - loss: 0.5359 - accuracy: 0.7388 - val_loss: 0.5664 - val_accuracy: 0.7318\n",
      "Epoch 73/100\n",
      "804/804 [==============================] - 2s 2ms/step - loss: 0.5356 - accuracy: 0.7382 - val_loss: 0.5649 - val_accuracy: 0.7296\n",
      "Epoch 74/100\n",
      "804/804 [==============================] - 2s 2ms/step - loss: 0.5363 - accuracy: 0.7383 - val_loss: 0.5578 - val_accuracy: 0.7314\n",
      "Epoch 75/100\n",
      "804/804 [==============================] - 2s 2ms/step - loss: 0.5358 - accuracy: 0.7402 - val_loss: 0.5599 - val_accuracy: 0.7308\n",
      "Epoch 76/100\n",
      "804/804 [==============================] - 2s 2ms/step - loss: 0.5353 - accuracy: 0.7386 - val_loss: 0.5606 - val_accuracy: 0.7307\n",
      "Epoch 77/100\n",
      "804/804 [==============================] - 2s 2ms/step - loss: 0.5356 - accuracy: 0.7395 - val_loss: 0.5620 - val_accuracy: 0.7315\n",
      "Epoch 78/100\n",
      "804/804 [==============================] - 2s 2ms/step - loss: 0.5355 - accuracy: 0.7384 - val_loss: 0.5670 - val_accuracy: 0.7313\n",
      "Epoch 79/100\n",
      "804/804 [==============================] - 2s 2ms/step - loss: 0.5355 - accuracy: 0.7383 - val_loss: 0.5599 - val_accuracy: 0.7313\n",
      "Epoch 80/100\n",
      "804/804 [==============================] - 2s 2ms/step - loss: 0.5351 - accuracy: 0.7398 - val_loss: 0.5582 - val_accuracy: 0.7319\n",
      "Epoch 81/100\n",
      "804/804 [==============================] - 2s 2ms/step - loss: 0.5353 - accuracy: 0.7391 - val_loss: 0.5679 - val_accuracy: 0.7315\n",
      "Epoch 82/100\n",
      "804/804 [==============================] - 2s 2ms/step - loss: 0.5347 - accuracy: 0.7402 - val_loss: 0.5632 - val_accuracy: 0.7311\n",
      "Epoch 83/100\n",
      "804/804 [==============================] - 2s 2ms/step - loss: 0.5353 - accuracy: 0.7392 - val_loss: 0.5600 - val_accuracy: 0.7305\n",
      "Epoch 84/100\n",
      "804/804 [==============================] - 2s 2ms/step - loss: 0.5363 - accuracy: 0.7394 - val_loss: 0.5673 - val_accuracy: 0.7307\n",
      "Epoch 85/100\n",
      "804/804 [==============================] - 2s 2ms/step - loss: 0.5348 - accuracy: 0.7389 - val_loss: 0.5693 - val_accuracy: 0.7259\n",
      "Epoch 86/100\n",
      "804/804 [==============================] - 2s 2ms/step - loss: 0.5344 - accuracy: 0.7400 - val_loss: 0.5654 - val_accuracy: 0.7298\n",
      "Epoch 87/100\n",
      "804/804 [==============================] - 2s 2ms/step - loss: 0.5347 - accuracy: 0.7400 - val_loss: 0.5629 - val_accuracy: 0.7290\n",
      "Epoch 88/100\n",
      "804/804 [==============================] - 2s 2ms/step - loss: 0.5344 - accuracy: 0.7389 - val_loss: 0.5631 - val_accuracy: 0.7321\n",
      "Epoch 89/100\n",
      "804/804 [==============================] - 2s 2ms/step - loss: 0.5347 - accuracy: 0.7393 - val_loss: 0.5606 - val_accuracy: 0.7293\n",
      "Epoch 90/100\n",
      "804/804 [==============================] - 2s 2ms/step - loss: 0.5347 - accuracy: 0.7393 - val_loss: 0.5692 - val_accuracy: 0.7315\n",
      "Epoch 91/100\n",
      "804/804 [==============================] - 2s 2ms/step - loss: 0.5345 - accuracy: 0.7393 - val_loss: 0.5676 - val_accuracy: 0.7308\n",
      "Epoch 92/100\n",
      "804/804 [==============================] - 2s 2ms/step - loss: 0.5346 - accuracy: 0.7395 - val_loss: 0.5607 - val_accuracy: 0.7332\n",
      "Epoch 93/100\n",
      "804/804 [==============================] - 2s 2ms/step - loss: 0.5350 - accuracy: 0.7388 - val_loss: 0.5696 - val_accuracy: 0.7290\n",
      "Epoch 94/100\n",
      "804/804 [==============================] - 2s 2ms/step - loss: 0.5341 - accuracy: 0.7408 - val_loss: 0.5666 - val_accuracy: 0.7261\n",
      "Epoch 95/100\n",
      "804/804 [==============================] - 2s 2ms/step - loss: 0.5348 - accuracy: 0.7376 - val_loss: 0.5657 - val_accuracy: 0.7298\n",
      "Epoch 96/100\n",
      "804/804 [==============================] - 2s 2ms/step - loss: 0.5349 - accuracy: 0.7390 - val_loss: 0.5615 - val_accuracy: 0.7301\n",
      "Epoch 97/100\n",
      "804/804 [==============================] - 2s 2ms/step - loss: 0.5345 - accuracy: 0.7392 - val_loss: 0.5604 - val_accuracy: 0.7314\n",
      "Epoch 98/100\n",
      "804/804 [==============================] - 2s 2ms/step - loss: 0.5347 - accuracy: 0.7391 - val_loss: 0.5550 - val_accuracy: 0.7287\n",
      "Epoch 99/100\n",
      "804/804 [==============================] - 2s 2ms/step - loss: 0.5348 - accuracy: 0.7385 - val_loss: 0.5670 - val_accuracy: 0.7305\n",
      "Epoch 100/100\n",
      "804/804 [==============================] - 2s 2ms/step - loss: 0.5340 - accuracy: 0.7412 - val_loss: 0.5604 - val_accuracy: 0.7300\n"
     ]
    }
   ],
   "source": [
    "# Fit the model using 100 epochs and the training data\n",
    "fit_model_A1 = nn_A1.fit(\n",
    "    X_train_scaled_n, \n",
    "    y_train, \n",
    "    epochs=100,\n",
    "    validation_data=(X_test_scaled_n, y_test)\n",
    ")\n"
   ]
  },
  {
   "cell_type": "code",
   "execution_count": 321,
   "metadata": {},
   "outputs": [
    {
     "data": {
      "image/png": "[encoded data removed]",
      "text/plain": [
       "<Figure size 432x288 with 1 Axes>"
      ]
     },
     "metadata": {
      "needs_background": "light"
     },
     "output_type": "display_data"
    }
   ],
   "source": [
    "# Plot loss function for A1 model\n",
    "plt.plot(fit_model_A1.history['loss'])\n",
    "plt.plot(fit_model_A1.history['val_loss'])\n",
    "plt.title('Loss function for A1 Model')\n",
    "plt.ylabel('Loss')\n",
    "plt.xlabel('Epoch')\n",
    "plt.legend(['Train', 'Test/Validation'])                                    \n",
    "plt.show()"
   ]
  },
  {
   "cell_type": "code",
   "execution_count": 322,
   "metadata": {},
   "outputs": [
    {
     "data": {
      "image/png": "[encoded data removed]",
      "text/plain": [
       "<Figure size 432x288 with 1 Axes>"
      ]
     },
     "metadata": {
      "needs_background": "light"
     },
     "output_type": "display_data"
    }
   ],
   "source": [
    "# Plot accuracy metric for A1 model\n",
    "\n",
    "plt.plot(fit_model_A1.history['accuracy'])\n",
    "plt.plot(fit_model_A1.history['val_accuracy'])\n",
    "plt.title('Accuracy for A1 Model')\n",
    "plt.ylabel('Accuracy')\n",
    "plt.xlabel('Epoch')\n",
    "plt.legend(['Train', 'Test/Validation'])                                 \n",
    "plt.show()"
   ]
  },
  {
   "cell_type": "markdown",
   "metadata": {},
   "source": [
    "#### Alternative Model 2"
   ]
  },
  {
   "cell_type": "code",
   "execution_count": 323,
   "metadata": {},
   "outputs": [
    {
     "data": {
      "text/plain": [
       "115"
      ]
     },
     "execution_count": 323,
     "metadata": {},
     "output_type": "execute_result"
    }
   ],
   "source": [
    "# Define the the number of inputs (features) to the model\n",
    "number_input_features = len(X_train.iloc[0])\n",
    "\n",
    "# Review the number of features\n",
    "number_input_features"
   ]
  },
  {
   "cell_type": "code",
   "execution_count": 324,
   "metadata": {},
   "outputs": [],
   "source": [
    "# Define the number of neurons in the output layer\n",
    "number_output_neurons_A2 = 1"
   ]
  },
  {
   "cell_type": "code",
   "execution_count": 325,
   "metadata": {},
   "outputs": [
    {
     "data": {
      "text/plain": [
       "58.0"
      ]
     },
     "execution_count": 325,
     "metadata": {},
     "output_type": "execute_result"
    }
   ],
   "source": [
    "# Define the number of hidden nodes for the first hidden layer\n",
    "hidden_nodes_layer1_A2 = round((number_input_features+number_output_neurons_A2)/2,0)\n",
    "\n",
    "# Review the number of hidden nodes in the first layer\n",
    "hidden_nodes_layer1_A2"
   ]
  },
  {
   "cell_type": "code",
   "execution_count": 326,
   "metadata": {},
   "outputs": [
    {
     "data": {
      "text/plain": [
       "30.0"
      ]
     },
     "execution_count": 326,
     "metadata": {},
     "output_type": "execute_result"
    }
   ],
   "source": [
    "# Define the number of hidden nodes for the second hidden layer\n",
    "hidden_nodes_layer2_A2 = round((hidden_nodes_layer1_A2+number_output_neurons_A2)/2,0)\n",
    "\n",
    "# Review the number of hidden nodes in the second layer\n",
    "hidden_nodes_layer2_A2"
   ]
  },
  {
   "cell_type": "code",
   "execution_count": 327,
   "metadata": {},
   "outputs": [
    {
     "data": {
      "text/plain": [
       "16.0"
      ]
     },
     "execution_count": 327,
     "metadata": {},
     "output_type": "execute_result"
    }
   ],
   "source": [
    "# Define the number of hidden nodes for the third hidden layer\n",
    "hidden_nodes_layer3_A2 = round((hidden_nodes_layer2_A2+number_output_neurons_A2)/2,0)\n",
    "\n",
    "# Review the number of hidden nodes in the third layer\n",
    "hidden_nodes_layer3_A2"
   ]
  },
  {
   "cell_type": "code",
   "execution_count": 328,
   "metadata": {},
   "outputs": [],
   "source": [
    "# Create the Sequential model instance\n",
    "nn_A2 = Sequential()"
   ]
  },
  {
   "cell_type": "code",
   "execution_count": 329,
   "metadata": {},
   "outputs": [
    {
     "name": "stdout",
     "output_type": "stream",
     "text": [
      "Model: \"sequential_14\"\n",
      "_________________________________________________________________\n",
      " Layer (type)                Output Shape              Param #   \n",
      "=================================================================\n",
      " dense_37 (Dense)            (None, 58)                6728      \n",
      "                                                                 \n",
      " dense_38 (Dense)            (None, 30)                1770      \n",
      "                                                                 \n",
      " dense_39 (Dense)            (None, 16)                496       \n",
      "                                                                 \n",
      " dense_40 (Dense)            (None, 1)                 17        \n",
      "                                                                 \n",
      "=================================================================\n",
      "Total params: 9,011\n",
      "Trainable params: 9,011\n",
      "Non-trainable params: 0\n",
      "_________________________________________________________________\n"
     ]
    }
   ],
   "source": [
    "# First hidden layer\n",
    "# YOUR CODE HERE\n",
    "nn_A2.add(Dense(units=hidden_nodes_layer1_A2, input_dim=number_input_features, activation='relu'))\n",
    "\n",
    "# second hidden layer\n",
    "# YOUR CODE HERE\n",
    "nn_A2.add(Dense(units=hidden_nodes_layer2_A2, activation='relu'))\n",
    "\n",
    "# third hidden layer\n",
    "# YOUR CODE HERE\n",
    "nn_A2.add(Dense(units=hidden_nodes_layer3_A2, activation='relu'))\n",
    "\n",
    "# Output layer\n",
    "# YOUR CODE HERE\n",
    "nn_A2.add(Dense(units=number_output_neurons_A2, activation='sigmoid'))\n",
    "\n",
    "# Check the structure of the model\n",
    "# YOUR CODE HERE\n",
    "nn_A2.summary()"
   ]
  },
  {
   "cell_type": "code",
   "execution_count": 330,
   "metadata": {},
   "outputs": [],
   "source": [
    "# Compile the model\n",
    "# YOUR CODE HERE\n",
    "nn_A2.compile(loss=\"binary_crossentropy\", optimizer=\"adam\", metrics=[\"accuracy\"])"
   ]
  },
  {
   "cell_type": "code",
   "execution_count": 331,
   "metadata": {},
   "outputs": [
    {
     "name": "stdout",
     "output_type": "stream",
     "text": [
      "Epoch 1/100\n",
      "804/804 [==============================] - 3s 3ms/step - loss: 0.5811 - accuracy: 0.7203 - val_loss: 0.5621 - val_accuracy: 0.7293\n",
      "Epoch 2/100\n",
      "804/804 [==============================] - 2s 3ms/step - loss: 0.5524 - accuracy: 0.7305 - val_loss: 0.5634 - val_accuracy: 0.7248\n",
      "Epoch 3/100\n",
      "804/804 [==============================] - 2s 3ms/step - loss: 0.5486 - accuracy: 0.7326 - val_loss: 0.5572 - val_accuracy: 0.7297\n",
      "Epoch 4/100\n",
      "804/804 [==============================] - 2s 3ms/step - loss: 0.5472 - accuracy: 0.7346 - val_loss: 0.5572 - val_accuracy: 0.7314\n",
      "Epoch 5/100\n",
      "804/804 [==============================] - 2s 3ms/step - loss: 0.5459 - accuracy: 0.7327 - val_loss: 0.5525 - val_accuracy: 0.7314\n",
      "Epoch 6/100\n",
      "804/804 [==============================] - 2s 3ms/step - loss: 0.5444 - accuracy: 0.7343 - val_loss: 0.5535 - val_accuracy: 0.7252\n",
      "Epoch 7/100\n",
      "804/804 [==============================] - 2s 3ms/step - loss: 0.5441 - accuracy: 0.7331 - val_loss: 0.5528 - val_accuracy: 0.7284\n",
      "Epoch 8/100\n",
      "804/804 [==============================] - 2s 3ms/step - loss: 0.5429 - accuracy: 0.7338 - val_loss: 0.5553 - val_accuracy: 0.7262\n",
      "Epoch 9/100\n",
      "804/804 [==============================] - 2s 3ms/step - loss: 0.5420 - accuracy: 0.7342 - val_loss: 0.5522 - val_accuracy: 0.7293\n",
      "Epoch 10/100\n",
      "804/804 [==============================] - 2s 3ms/step - loss: 0.5414 - accuracy: 0.7359 - val_loss: 0.5499 - val_accuracy: 0.7312\n",
      "Epoch 11/100\n",
      "804/804 [==============================] - 2s 3ms/step - loss: 0.5407 - accuracy: 0.7358 - val_loss: 0.5526 - val_accuracy: 0.7328\n",
      "Epoch 12/100\n",
      "804/804 [==============================] - 2s 3ms/step - loss: 0.5405 - accuracy: 0.7357 - val_loss: 0.5522 - val_accuracy: 0.7303\n",
      "Epoch 13/100\n",
      "804/804 [==============================] - 2s 3ms/step - loss: 0.5401 - accuracy: 0.7370 - val_loss: 0.5536 - val_accuracy: 0.7296\n",
      "Epoch 14/100\n",
      "804/804 [==============================] - 2s 3ms/step - loss: 0.5395 - accuracy: 0.7369 - val_loss: 0.5526 - val_accuracy: 0.7292\n",
      "Epoch 15/100\n",
      "804/804 [==============================] - 2s 3ms/step - loss: 0.5391 - accuracy: 0.7365 - val_loss: 0.5539 - val_accuracy: 0.7256\n",
      "Epoch 16/100\n",
      "804/804 [==============================] - 2s 3ms/step - loss: 0.5386 - accuracy: 0.7381 - val_loss: 0.5543 - val_accuracy: 0.7300\n",
      "Epoch 17/100\n",
      "804/804 [==============================] - 2s 3ms/step - loss: 0.5387 - accuracy: 0.7371 - val_loss: 0.5515 - val_accuracy: 0.7296\n",
      "Epoch 18/100\n",
      "804/804 [==============================] - 2s 3ms/step - loss: 0.5378 - accuracy: 0.7379 - val_loss: 0.5517 - val_accuracy: 0.7300\n",
      "Epoch 19/100\n",
      "804/804 [==============================] - 2s 3ms/step - loss: 0.5383 - accuracy: 0.7376 - val_loss: 0.5512 - val_accuracy: 0.7297\n",
      "Epoch 20/100\n",
      "804/804 [==============================] - 2s 3ms/step - loss: 0.5371 - accuracy: 0.7382 - val_loss: 0.5519 - val_accuracy: 0.7312\n",
      "Epoch 21/100\n",
      "804/804 [==============================] - 2s 3ms/step - loss: 0.5373 - accuracy: 0.7379 - val_loss: 0.5537 - val_accuracy: 0.7284\n",
      "Epoch 22/100\n",
      "804/804 [==============================] - 2s 3ms/step - loss: 0.5367 - accuracy: 0.7379 - val_loss: 0.5519 - val_accuracy: 0.7296\n",
      "Epoch 23/100\n",
      "804/804 [==============================] - 2s 3ms/step - loss: 0.5364 - accuracy: 0.7390 - val_loss: 0.5504 - val_accuracy: 0.7314\n",
      "Epoch 24/100\n",
      "804/804 [==============================] - 2s 3ms/step - loss: 0.5363 - accuracy: 0.7380 - val_loss: 0.5512 - val_accuracy: 0.7312\n",
      "Epoch 25/100\n",
      "804/804 [==============================] - 2s 3ms/step - loss: 0.5353 - accuracy: 0.7391 - val_loss: 0.5577 - val_accuracy: 0.7310\n",
      "Epoch 26/100\n",
      "804/804 [==============================] - 2s 3ms/step - loss: 0.5357 - accuracy: 0.7390 - val_loss: 0.5574 - val_accuracy: 0.7304\n",
      "Epoch 27/100\n",
      "804/804 [==============================] - 2s 3ms/step - loss: 0.5357 - accuracy: 0.7396 - val_loss: 0.5506 - val_accuracy: 0.7320\n",
      "Epoch 28/100\n",
      "804/804 [==============================] - 2s 3ms/step - loss: 0.5350 - accuracy: 0.7397 - val_loss: 0.5522 - val_accuracy: 0.7299\n",
      "Epoch 29/100\n",
      "804/804 [==============================] - 2s 3ms/step - loss: 0.5350 - accuracy: 0.7390 - val_loss: 0.5553 - val_accuracy: 0.7298\n",
      "Epoch 30/100\n",
      "804/804 [==============================] - 2s 3ms/step - loss: 0.5347 - accuracy: 0.7383 - val_loss: 0.5517 - val_accuracy: 0.7293\n",
      "Epoch 31/100\n",
      "804/804 [==============================] - 2s 3ms/step - loss: 0.5344 - accuracy: 0.7408 - val_loss: 0.5518 - val_accuracy: 0.7297\n",
      "Epoch 32/100\n",
      "804/804 [==============================] - 2s 3ms/step - loss: 0.5347 - accuracy: 0.7394 - val_loss: 0.5546 - val_accuracy: 0.7289\n",
      "Epoch 33/100\n",
      "804/804 [==============================] - 2s 3ms/step - loss: 0.5341 - accuracy: 0.7402 - val_loss: 0.5544 - val_accuracy: 0.7291\n",
      "Epoch 34/100\n",
      "804/804 [==============================] - 2s 3ms/step - loss: 0.5339 - accuracy: 0.7404 - val_loss: 0.5516 - val_accuracy: 0.7304\n",
      "Epoch 35/100\n",
      "804/804 [==============================] - 2s 3ms/step - loss: 0.5335 - accuracy: 0.7403 - val_loss: 0.5539 - val_accuracy: 0.7297\n",
      "Epoch 36/100\n",
      "804/804 [==============================] - 2s 3ms/step - loss: 0.5334 - accuracy: 0.7393 - val_loss: 0.5519 - val_accuracy: 0.7300\n",
      "Epoch 37/100\n",
      "804/804 [==============================] - 2s 3ms/step - loss: 0.5335 - accuracy: 0.7404 - val_loss: 0.5529 - val_accuracy: 0.7299\n",
      "Epoch 38/100\n",
      "804/804 [==============================] - 2s 3ms/step - loss: 0.5332 - accuracy: 0.7407 - val_loss: 0.5553 - val_accuracy: 0.7326\n",
      "Epoch 39/100\n",
      "804/804 [==============================] - 2s 3ms/step - loss: 0.5328 - accuracy: 0.7404 - val_loss: 0.5532 - val_accuracy: 0.7296\n",
      "Epoch 40/100\n",
      "804/804 [==============================] - 2s 3ms/step - loss: 0.5331 - accuracy: 0.7403 - val_loss: 0.5526 - val_accuracy: 0.7318\n",
      "Epoch 41/100\n",
      "804/804 [==============================] - 2s 3ms/step - loss: 0.5326 - accuracy: 0.7407 - val_loss: 0.5576 - val_accuracy: 0.7291\n",
      "Epoch 42/100\n",
      "804/804 [==============================] - 2s 3ms/step - loss: 0.5326 - accuracy: 0.7405 - val_loss: 0.5518 - val_accuracy: 0.7301\n",
      "Epoch 43/100\n",
      "804/804 [==============================] - 2s 3ms/step - loss: 0.5328 - accuracy: 0.7402 - val_loss: 0.5566 - val_accuracy: 0.7293\n",
      "Epoch 44/100\n",
      "804/804 [==============================] - 2s 3ms/step - loss: 0.5321 - accuracy: 0.7407 - val_loss: 0.5529 - val_accuracy: 0.7287\n",
      "Epoch 45/100\n",
      "804/804 [==============================] - 2s 3ms/step - loss: 0.5323 - accuracy: 0.7414 - val_loss: 0.5548 - val_accuracy: 0.7286\n",
      "Epoch 46/100\n",
      "804/804 [==============================] - 2s 3ms/step - loss: 0.5321 - accuracy: 0.7401 - val_loss: 0.5574 - val_accuracy: 0.7294\n",
      "Epoch 47/100\n",
      "804/804 [==============================] - 2s 3ms/step - loss: 0.5323 - accuracy: 0.7408 - val_loss: 0.5535 - val_accuracy: 0.7297\n",
      "Epoch 48/100\n",
      "804/804 [==============================] - 2s 3ms/step - loss: 0.5316 - accuracy: 0.7402 - val_loss: 0.5530 - val_accuracy: 0.7297\n",
      "Epoch 49/100\n",
      "804/804 [==============================] - 2s 3ms/step - loss: 0.5313 - accuracy: 0.7412 - val_loss: 0.5531 - val_accuracy: 0.7294\n",
      "Epoch 50/100\n",
      "804/804 [==============================] - 2s 3ms/step - loss: 0.5312 - accuracy: 0.7408 - val_loss: 0.5542 - val_accuracy: 0.7298\n",
      "Epoch 51/100\n",
      "804/804 [==============================] - 2s 3ms/step - loss: 0.5316 - accuracy: 0.7407 - val_loss: 0.5547 - val_accuracy: 0.7284\n",
      "Epoch 52/100\n",
      "804/804 [==============================] - 2s 3ms/step - loss: 0.5309 - accuracy: 0.7427 - val_loss: 0.5565 - val_accuracy: 0.7311\n",
      "Epoch 53/100\n",
      "804/804 [==============================] - 2s 3ms/step - loss: 0.5315 - accuracy: 0.7409 - val_loss: 0.5551 - val_accuracy: 0.7297\n",
      "Epoch 54/100\n",
      "804/804 [==============================] - 2s 3ms/step - loss: 0.5308 - accuracy: 0.7426 - val_loss: 0.5539 - val_accuracy: 0.7312\n",
      "Epoch 55/100\n",
      "804/804 [==============================] - 2s 3ms/step - loss: 0.5306 - accuracy: 0.7412 - val_loss: 0.5583 - val_accuracy: 0.7312\n",
      "Epoch 56/100\n",
      "804/804 [==============================] - 2s 3ms/step - loss: 0.5307 - accuracy: 0.7409 - val_loss: 0.5537 - val_accuracy: 0.7320\n",
      "Epoch 57/100\n",
      "804/804 [==============================] - 2s 3ms/step - loss: 0.5311 - accuracy: 0.7418 - val_loss: 0.5525 - val_accuracy: 0.7300\n",
      "Epoch 58/100\n",
      "804/804 [==============================] - 2s 3ms/step - loss: 0.5302 - accuracy: 0.7420 - val_loss: 0.5537 - val_accuracy: 0.7308\n",
      "Epoch 59/100\n",
      "804/804 [==============================] - 2s 3ms/step - loss: 0.5301 - accuracy: 0.7413 - val_loss: 0.5561 - val_accuracy: 0.7300\n",
      "Epoch 60/100\n",
      "804/804 [==============================] - 2s 3ms/step - loss: 0.5302 - accuracy: 0.7418 - val_loss: 0.5572 - val_accuracy: 0.7308\n",
      "Epoch 61/100\n",
      "804/804 [==============================] - 2s 3ms/step - loss: 0.5304 - accuracy: 0.7431 - val_loss: 0.5556 - val_accuracy: 0.7296\n",
      "Epoch 62/100\n",
      "804/804 [==============================] - 2s 3ms/step - loss: 0.5294 - accuracy: 0.7424 - val_loss: 0.5542 - val_accuracy: 0.7311\n",
      "Epoch 63/100\n",
      "804/804 [==============================] - 2s 3ms/step - loss: 0.5301 - accuracy: 0.7418 - val_loss: 0.5589 - val_accuracy: 0.7311\n",
      "Epoch 64/100\n",
      "804/804 [==============================] - 2s 3ms/step - loss: 0.5306 - accuracy: 0.7421 - val_loss: 0.5560 - val_accuracy: 0.7338\n",
      "Epoch 65/100\n",
      "804/804 [==============================] - 2s 3ms/step - loss: 0.5298 - accuracy: 0.7419 - val_loss: 0.5570 - val_accuracy: 0.7303\n",
      "Epoch 66/100\n",
      "804/804 [==============================] - 2s 3ms/step - loss: 0.5300 - accuracy: 0.7419 - val_loss: 0.5595 - val_accuracy: 0.7306\n",
      "Epoch 67/100\n",
      "804/804 [==============================] - 2s 3ms/step - loss: 0.5296 - accuracy: 0.7415 - val_loss: 0.5545 - val_accuracy: 0.7304\n",
      "Epoch 68/100\n",
      "804/804 [==============================] - 2s 3ms/step - loss: 0.5296 - accuracy: 0.7423 - val_loss: 0.5590 - val_accuracy: 0.7290\n",
      "Epoch 69/100\n",
      "804/804 [==============================] - 2s 3ms/step - loss: 0.5296 - accuracy: 0.7414 - val_loss: 0.5572 - val_accuracy: 0.7290\n",
      "Epoch 70/100\n",
      "804/804 [==============================] - 2s 3ms/step - loss: 0.5297 - accuracy: 0.7413 - val_loss: 0.5573 - val_accuracy: 0.7296\n",
      "Epoch 71/100\n",
      "804/804 [==============================] - 2s 3ms/step - loss: 0.5291 - accuracy: 0.7422 - val_loss: 0.5586 - val_accuracy: 0.7307\n",
      "Epoch 72/100\n",
      "804/804 [==============================] - 2s 3ms/step - loss: 0.5295 - accuracy: 0.7420 - val_loss: 0.5588 - val_accuracy: 0.7315\n",
      "Epoch 73/100\n",
      "804/804 [==============================] - 2s 3ms/step - loss: 0.5291 - accuracy: 0.7428 - val_loss: 0.5567 - val_accuracy: 0.7310\n",
      "Epoch 74/100\n",
      "804/804 [==============================] - 2s 3ms/step - loss: 0.5302 - accuracy: 0.7408 - val_loss: 0.5557 - val_accuracy: 0.7315\n",
      "Epoch 75/100\n",
      "804/804 [==============================] - 2s 3ms/step - loss: 0.5293 - accuracy: 0.7409 - val_loss: 0.5553 - val_accuracy: 0.7308\n",
      "Epoch 76/100\n",
      "804/804 [==============================] - 2s 3ms/step - loss: 0.5297 - accuracy: 0.7417 - val_loss: 0.5586 - val_accuracy: 0.7297\n",
      "Epoch 77/100\n",
      "804/804 [==============================] - 2s 3ms/step - loss: 0.5290 - accuracy: 0.7420 - val_loss: 0.5558 - val_accuracy: 0.7298\n",
      "Epoch 78/100\n",
      "804/804 [==============================] - 2s 3ms/step - loss: 0.5291 - accuracy: 0.7419 - val_loss: 0.5569 - val_accuracy: 0.7296\n",
      "Epoch 79/100\n",
      "804/804 [==============================] - 2s 3ms/step - loss: 0.5292 - accuracy: 0.7421 - val_loss: 0.5554 - val_accuracy: 0.7303\n",
      "Epoch 80/100\n",
      "804/804 [==============================] - 2s 3ms/step - loss: 0.5291 - accuracy: 0.7424 - val_loss: 0.5579 - val_accuracy: 0.7317\n",
      "Epoch 81/100\n",
      "804/804 [==============================] - 2s 3ms/step - loss: 0.5289 - accuracy: 0.7427 - val_loss: 0.5581 - val_accuracy: 0.7300\n",
      "Epoch 82/100\n",
      "804/804 [==============================] - 2s 3ms/step - loss: 0.5288 - accuracy: 0.7424 - val_loss: 0.5592 - val_accuracy: 0.7301\n",
      "Epoch 83/100\n",
      "804/804 [==============================] - 2s 3ms/step - loss: 0.5284 - accuracy: 0.7423 - val_loss: 0.5607 - val_accuracy: 0.7294\n",
      "Epoch 84/100\n",
      "804/804 [==============================] - 2s 3ms/step - loss: 0.5291 - accuracy: 0.7413 - val_loss: 0.5574 - val_accuracy: 0.7300\n",
      "Epoch 85/100\n",
      "804/804 [==============================] - 2s 3ms/step - loss: 0.5287 - accuracy: 0.7414 - val_loss: 0.5602 - val_accuracy: 0.7305\n",
      "Epoch 86/100\n",
      "804/804 [==============================] - 2s 3ms/step - loss: 0.5283 - accuracy: 0.7424 - val_loss: 0.5580 - val_accuracy: 0.7311\n",
      "Epoch 87/100\n",
      "804/804 [==============================] - 2s 3ms/step - loss: 0.5285 - accuracy: 0.7416 - val_loss: 0.5582 - val_accuracy: 0.7292\n",
      "Epoch 88/100\n",
      "804/804 [==============================] - 2s 3ms/step - loss: 0.5282 - accuracy: 0.7422 - val_loss: 0.5594 - val_accuracy: 0.7287\n",
      "Epoch 89/100\n",
      "804/804 [==============================] - 2s 3ms/step - loss: 0.5281 - accuracy: 0.7426 - val_loss: 0.5607 - val_accuracy: 0.7296\n",
      "Epoch 90/100\n",
      "804/804 [==============================] - 2s 3ms/step - loss: 0.5282 - accuracy: 0.7423 - val_loss: 0.5624 - val_accuracy: 0.7300\n",
      "Epoch 91/100\n",
      "804/804 [==============================] - 2s 3ms/step - loss: 0.5283 - accuracy: 0.7423 - val_loss: 0.5571 - val_accuracy: 0.7300\n",
      "Epoch 92/100\n",
      "804/804 [==============================] - 2s 2ms/step - loss: 0.5282 - accuracy: 0.7425 - val_loss: 0.5591 - val_accuracy: 0.7296\n",
      "Epoch 93/100\n",
      "804/804 [==============================] - 2s 3ms/step - loss: 0.5279 - accuracy: 0.7433 - val_loss: 0.5604 - val_accuracy: 0.7280\n",
      "Epoch 94/100\n",
      "804/804 [==============================] - 2s 3ms/step - loss: 0.5285 - accuracy: 0.7431 - val_loss: 0.5578 - val_accuracy: 0.7304\n",
      "Epoch 95/100\n",
      "804/804 [==============================] - 2s 3ms/step - loss: 0.5281 - accuracy: 0.7418 - val_loss: 0.5594 - val_accuracy: 0.7304\n",
      "Epoch 96/100\n",
      "804/804 [==============================] - 2s 3ms/step - loss: 0.5282 - accuracy: 0.7429 - val_loss: 0.5607 - val_accuracy: 0.7301\n",
      "Epoch 97/100\n",
      "804/804 [==============================] - 2s 3ms/step - loss: 0.5281 - accuracy: 0.7429 - val_loss: 0.5604 - val_accuracy: 0.7293\n",
      "Epoch 98/100\n",
      "804/804 [==============================] - 2s 3ms/step - loss: 0.5277 - accuracy: 0.7430 - val_loss: 0.5621 - val_accuracy: 0.7304\n",
      "Epoch 99/100\n",
      "804/804 [==============================] - 2s 3ms/step - loss: 0.5280 - accuracy: 0.7428 - val_loss: 0.5580 - val_accuracy: 0.7298\n",
      "Epoch 100/100\n",
      "804/804 [==============================] - 2s 3ms/step - loss: 0.5278 - accuracy: 0.7419 - val_loss: 0.5628 - val_accuracy: 0.7291\n"
     ]
    }
   ],
   "source": [
    "# Fit the model\n",
    "# YOUR CODE HERE\n",
    "fit_model_A2 = nn_A2.fit(\n",
    "    X_train_scaled_n, \n",
    "    y_train, \n",
    "    epochs=100,\n",
    "    validation_data=(X_test_scaled_n, y_test)\n",
    ")"
   ]
  },
  {
   "cell_type": "code",
   "execution_count": 332,
   "metadata": {},
   "outputs": [
    {
     "data": {
      "image/png": "[encoded data removed]",
      "text/plain": [
       "<Figure size 432x288 with 1 Axes>"
      ]
     },
     "metadata": {
      "needs_background": "light"
     },
     "output_type": "display_data"
    }
   ],
   "source": [
    "# Plot loss function for A2 model\n",
    "plt.plot(fit_model_A2.history['loss'])\n",
    "plt.plot(fit_model_A2.history['val_loss'])\n",
    "plt.title('Loss function for A2 Model')\n",
    "plt.ylabel('Loss')\n",
    "plt.xlabel('Epoch')\n",
    "plt.legend(['Train', 'Test/Validation'])                                    \n",
    "plt.show()"
   ]
  },
  {
   "cell_type": "code",
   "execution_count": 333,
   "metadata": {},
   "outputs": [
    {
     "data": {
      "image/png": "[encoded data removed]",
      "text/plain": [
       "<Figure size 432x288 with 1 Axes>"
      ]
     },
     "metadata": {
      "needs_background": "light"
     },
     "output_type": "display_data"
    }
   ],
   "source": [
    "# Plot accuracy metric for A2 model\n",
    "\n",
    "plt.plot(fit_model_A2.history['accuracy'])\n",
    "plt.plot(fit_model_A2.history['val_accuracy'])\n",
    "plt.title('Accuracy for A2 Model')\n",
    "plt.ylabel('Accuracy')\n",
    "plt.xlabel('Epoch')\n",
    "plt.legend(['Train', 'Test/Validation'])                                 \n",
    "plt.show()"
   ]
  },
  {
   "cell_type": "markdown",
   "metadata": {},
   "source": [
    "### Step 2: After finishing your models, display the accuracy scores achieved by each model, and compare the results."
   ]
  },
  {
   "cell_type": "code",
   "execution_count": 334,
   "metadata": {},
   "outputs": [
    {
     "name": "stdout",
     "output_type": "stream",
     "text": [
      "Original Model Results\n",
      "268/268 - 0s - loss: 0.5533 - accuracy: 0.7303 - 386ms/epoch - 1ms/step\n",
      "Loss: 0.5532585382461548, Accuracy: 0.7302623987197876\n"
     ]
    }
   ],
   "source": [
    "print(\"Original Model Results\")\n",
    "\n",
    "# Evaluate the model loss and accuracy metrics using the evaluate method and the test data\n",
    "model_loss, model_accuracy = nn.evaluate(X_test_scaled,y_test,verbose=2)\n",
    "\n",
    "# Display the model loss and accuracy results\n",
    "print(f\"Loss: {model_loss}, Accuracy: {model_accuracy}\")"
   ]
  },
  {
   "cell_type": "code",
   "execution_count": 335,
   "metadata": {},
   "outputs": [
    {
     "name": "stdout",
     "output_type": "stream",
     "text": [
      "Alternative Model 1 Results\n",
      "268/268 - 0s - loss: 0.5604 - accuracy: 0.7300 - 339ms/epoch - 1ms/step\n",
      "Loss: 0.5604280233383179, Accuracy: 0.7300291657447815\n"
     ]
    }
   ],
   "source": [
    "print(\"Alternative Model 1 Results\")\n",
    "\n",
    "# Evaluate the model loss and accuracy metrics using the evaluate method and the test data\n",
    "model_loss, model_accuracy = nn_A1.evaluate(X_test_scaled_n,y_test,verbose=2)\n",
    "\n",
    "# Display the model loss and accuracy results\n",
    "print(f\"Loss: {model_loss}, Accuracy: {model_accuracy}\")"
   ]
  },
  {
   "cell_type": "code",
   "execution_count": 336,
   "metadata": {},
   "outputs": [
    {
     "name": "stdout",
     "output_type": "stream",
     "text": [
      "Alternative Model 2 Results\n",
      "268/268 - 0s - loss: 0.5628 - accuracy: 0.7291 - 372ms/epoch - 1ms/step\n",
      "Loss: 0.5627556443214417, Accuracy: 0.7290962338447571\n"
     ]
    }
   ],
   "source": [
    "print(\"Alternative Model 2 Results\")\n",
    "\n",
    "# Evaluate the model loss and accuracy metrics using the evaluate method and the test data\n",
    "model_loss, model_accuracy = nn_A2.evaluate(X_test_scaled_n,y_test,verbose=2)\n",
    "\n",
    "# Display the model loss and accuracy results\n",
    "print(f\"Loss: {model_loss}, Accuracy: {model_accuracy}\")"
   ]
  },
  {
   "cell_type": "markdown",
   "metadata": {
    "tags": []
   },
   "source": [
    "### Step 3: Save each of your alternative models as an HDF5 file.\n"
   ]
  },
  {
   "cell_type": "code",
   "execution_count": 337,
   "metadata": {},
   "outputs": [],
   "source": [
    "# Set the file path for the first alternative model\n",
    "file_path = Path(\"./Resources/AlphabetSoupA1.h5\")\n",
    "\n",
    "# Export your model to a HDF5 file\n",
    "# YOUR CODE HERE\n",
    "nn_A1.save(file_path)"
   ]
  },
  {
   "cell_type": "code",
   "execution_count": 338,
   "metadata": {},
   "outputs": [],
   "source": [
    "# Set the file path for the second alternative model\n",
    "file_path = Path(\"./Resources/AlphabetSoupA2.h5\")\n",
    "\n",
    "# Export your model to a HDF5 file\n",
    "# YOUR CODE HERE\n",
    "nn_A2.save(file_path)"
   ]
  },
  {
   "cell_type": "code",
   "execution_count": 353,
   "metadata": {},
   "outputs": [],
   "source": [
    "# Alternative 3"
   ]
  },
  {
   "cell_type": "code",
   "execution_count": 349,
   "metadata": {},
   "outputs": [
    {
     "name": "stdout",
     "output_type": "stream",
     "text": [
      "Epoch 1/50\n",
      "804/804 [==============================] - 4s 4ms/step - loss: 0.6053 - accuracy: 0.7092 - val_loss: 0.5703 - val_accuracy: 0.7249\n",
      "Epoch 2/50\n",
      "804/804 [==============================] - 3s 3ms/step - loss: 0.5666 - accuracy: 0.7251 - val_loss: 0.5626 - val_accuracy: 0.7242\n",
      "Epoch 3/50\n",
      "804/804 [==============================] - 3s 3ms/step - loss: 0.5584 - accuracy: 0.7247 - val_loss: 0.5596 - val_accuracy: 0.7262\n",
      "Epoch 4/50\n",
      "804/804 [==============================] - 2s 3ms/step - loss: 0.5550 - accuracy: 0.7262 - val_loss: 0.5566 - val_accuracy: 0.7252\n",
      "Epoch 5/50\n",
      "804/804 [==============================] - 3s 3ms/step - loss: 0.5535 - accuracy: 0.7271 - val_loss: 0.5580 - val_accuracy: 0.7278\n",
      "Epoch 6/50\n",
      "804/804 [==============================] - 3s 3ms/step - loss: 0.5522 - accuracy: 0.7277 - val_loss: 0.5563 - val_accuracy: 0.7292\n",
      "Epoch 7/50\n",
      "804/804 [==============================] - 3s 3ms/step - loss: 0.5512 - accuracy: 0.7289 - val_loss: 0.5551 - val_accuracy: 0.7275\n",
      "Epoch 8/50\n",
      "804/804 [==============================] - 3s 3ms/step - loss: 0.5496 - accuracy: 0.7290 - val_loss: 0.5565 - val_accuracy: 0.7291\n",
      "Epoch 9/50\n",
      "804/804 [==============================] - 3s 3ms/step - loss: 0.5495 - accuracy: 0.7293 - val_loss: 0.5548 - val_accuracy: 0.7283\n",
      "Epoch 10/50\n",
      "804/804 [==============================] - 2s 3ms/step - loss: 0.5486 - accuracy: 0.7298 - val_loss: 0.5538 - val_accuracy: 0.7266\n",
      "Epoch 11/50\n",
      "804/804 [==============================] - 3s 3ms/step - loss: 0.5481 - accuracy: 0.7294 - val_loss: 0.5551 - val_accuracy: 0.7262\n",
      "Epoch 12/50\n",
      "804/804 [==============================] - 3s 3ms/step - loss: 0.5475 - accuracy: 0.7299 - val_loss: 0.5545 - val_accuracy: 0.7285\n",
      "Epoch 13/50\n",
      "804/804 [==============================] - 3s 3ms/step - loss: 0.5468 - accuracy: 0.7299 - val_loss: 0.5532 - val_accuracy: 0.7269\n",
      "Epoch 14/50\n",
      "804/804 [==============================] - 2s 3ms/step - loss: 0.5461 - accuracy: 0.7311 - val_loss: 0.5539 - val_accuracy: 0.7279\n",
      "Epoch 15/50\n",
      "804/804 [==============================] - 3s 3ms/step - loss: 0.5458 - accuracy: 0.7313 - val_loss: 0.5527 - val_accuracy: 0.7292\n",
      "Epoch 16/50\n",
      "804/804 [==============================] - 3s 3ms/step - loss: 0.5454 - accuracy: 0.7322 - val_loss: 0.5534 - val_accuracy: 0.7270\n",
      "Epoch 17/50\n",
      "804/804 [==============================] - 3s 3ms/step - loss: 0.5448 - accuracy: 0.7315 - val_loss: 0.5531 - val_accuracy: 0.7307\n",
      "Epoch 18/50\n",
      "804/804 [==============================] - 3s 3ms/step - loss: 0.5445 - accuracy: 0.7333 - val_loss: 0.5536 - val_accuracy: 0.7280\n",
      "Epoch 19/50\n",
      "804/804 [==============================] - 3s 3ms/step - loss: 0.5443 - accuracy: 0.7334 - val_loss: 0.5520 - val_accuracy: 0.7292\n",
      "Epoch 20/50\n",
      "804/804 [==============================] - 3s 3ms/step - loss: 0.5437 - accuracy: 0.7333 - val_loss: 0.5534 - val_accuracy: 0.7298\n",
      "Epoch 21/50\n",
      "804/804 [==============================] - 3s 3ms/step - loss: 0.5436 - accuracy: 0.7349 - val_loss: 0.5527 - val_accuracy: 0.7301\n",
      "Epoch 22/50\n",
      "804/804 [==============================] - 3s 3ms/step - loss: 0.5433 - accuracy: 0.7339 - val_loss: 0.5526 - val_accuracy: 0.7300\n",
      "Epoch 23/50\n",
      "804/804 [==============================] - 3s 3ms/step - loss: 0.5427 - accuracy: 0.7335 - val_loss: 0.5522 - val_accuracy: 0.7320\n",
      "Epoch 24/50\n",
      "804/804 [==============================] - 3s 3ms/step - loss: 0.5425 - accuracy: 0.7342 - val_loss: 0.5524 - val_accuracy: 0.7314\n",
      "Epoch 25/50\n",
      "804/804 [==============================] - 3s 3ms/step - loss: 0.5424 - accuracy: 0.7338 - val_loss: 0.5528 - val_accuracy: 0.7336\n",
      "Epoch 26/50\n",
      "804/804 [==============================] - 3s 3ms/step - loss: 0.5419 - accuracy: 0.7343 - val_loss: 0.5547 - val_accuracy: 0.7319\n",
      "Epoch 27/50\n",
      "804/804 [==============================] - 3s 3ms/step - loss: 0.5419 - accuracy: 0.7350 - val_loss: 0.5530 - val_accuracy: 0.7338\n",
      "Epoch 28/50\n",
      "804/804 [==============================] - 3s 3ms/step - loss: 0.5416 - accuracy: 0.7345 - val_loss: 0.5531 - val_accuracy: 0.7334\n",
      "Epoch 29/50\n",
      "804/804 [==============================] - 3s 3ms/step - loss: 0.5412 - accuracy: 0.7350 - val_loss: 0.5533 - val_accuracy: 0.7321\n",
      "Epoch 30/50\n",
      "804/804 [==============================] - 3s 3ms/step - loss: 0.5413 - accuracy: 0.7349 - val_loss: 0.5527 - val_accuracy: 0.7321\n",
      "Epoch 31/50\n",
      "804/804 [==============================] - 3s 3ms/step - loss: 0.5410 - accuracy: 0.7346 - val_loss: 0.5516 - val_accuracy: 0.7334\n",
      "Epoch 32/50\n",
      "804/804 [==============================] - 3s 3ms/step - loss: 0.5404 - accuracy: 0.7353 - val_loss: 0.5528 - val_accuracy: 0.7354\n",
      "Epoch 33/50\n",
      "804/804 [==============================] - 3s 3ms/step - loss: 0.5407 - accuracy: 0.7343 - val_loss: 0.5549 - val_accuracy: 0.7322\n",
      "Epoch 34/50\n",
      "804/804 [==============================] - 3s 3ms/step - loss: 0.5404 - accuracy: 0.7348 - val_loss: 0.5531 - val_accuracy: 0.7317\n",
      "Epoch 35/50\n",
      "804/804 [==============================] - 3s 3ms/step - loss: 0.5402 - accuracy: 0.7343 - val_loss: 0.5547 - val_accuracy: 0.7328\n",
      "Epoch 36/50\n",
      "804/804 [==============================] - 3s 3ms/step - loss: 0.5400 - accuracy: 0.7357 - val_loss: 0.5528 - val_accuracy: 0.7332\n",
      "Epoch 37/50\n",
      "804/804 [==============================] - 3s 3ms/step - loss: 0.5400 - accuracy: 0.7352 - val_loss: 0.5534 - val_accuracy: 0.7340\n",
      "Epoch 38/50\n",
      "804/804 [==============================] - 3s 3ms/step - loss: 0.5399 - accuracy: 0.7355 - val_loss: 0.5545 - val_accuracy: 0.7332\n",
      "Epoch 39/50\n",
      "804/804 [==============================] - 3s 3ms/step - loss: 0.5397 - accuracy: 0.7350 - val_loss: 0.5542 - val_accuracy: 0.7333\n",
      "Epoch 40/50\n",
      "804/804 [==============================] - 3s 3ms/step - loss: 0.5396 - accuracy: 0.7348 - val_loss: 0.5562 - val_accuracy: 0.7342\n",
      "Epoch 41/50\n",
      "804/804 [==============================] - 3s 3ms/step - loss: 0.5393 - accuracy: 0.7345 - val_loss: 0.5554 - val_accuracy: 0.7333\n",
      "Epoch 42/50\n",
      "804/804 [==============================] - 3s 3ms/step - loss: 0.5389 - accuracy: 0.7361 - val_loss: 0.5563 - val_accuracy: 0.7338\n",
      "Epoch 43/50\n",
      "804/804 [==============================] - 3s 3ms/step - loss: 0.5391 - accuracy: 0.7354 - val_loss: 0.5552 - val_accuracy: 0.7324\n",
      "Epoch 44/50\n",
      "804/804 [==============================] - 3s 3ms/step - loss: 0.5388 - accuracy: 0.7352 - val_loss: 0.5549 - val_accuracy: 0.7327\n",
      "Epoch 45/50\n",
      "804/804 [==============================] - 3s 3ms/step - loss: 0.5388 - accuracy: 0.7349 - val_loss: 0.5576 - val_accuracy: 0.7317\n",
      "Epoch 46/50\n",
      "804/804 [==============================] - 3s 3ms/step - loss: 0.5388 - accuracy: 0.7348 - val_loss: 0.5565 - val_accuracy: 0.7326\n",
      "Epoch 47/50\n",
      "804/804 [==============================] - 3s 3ms/step - loss: 0.5386 - accuracy: 0.7352 - val_loss: 0.5583 - val_accuracy: 0.7336\n",
      "Epoch 48/50\n",
      "804/804 [==============================] - 3s 3ms/step - loss: 0.5386 - accuracy: 0.7349 - val_loss: 0.5587 - val_accuracy: 0.7331\n",
      "Epoch 49/50\n",
      "804/804 [==============================] - 3s 3ms/step - loss: 0.5384 - accuracy: 0.7346 - val_loss: 0.5552 - val_accuracy: 0.7332\n",
      "Epoch 50/50\n",
      "804/804 [==============================] - 3s 3ms/step - loss: 0.5383 - accuracy: 0.7355 - val_loss: 0.5555 - val_accuracy: 0.7335\n"
     ]
    }
   ],
   "source": [
    "nn_A3 = Sequential()\n",
    "nn_A3.add(Dense(units=16, input_dim=number_input_features, activation='softplus'))\n",
    "nn_A3.add(Dense(units=2, activation='softplus'))\n",
    "nn_A3.add(Dense(units=1, activation='sigmoid'))\n",
    "nn_A3.compile(loss=\"binary_crossentropy\", optimizer=\"adam\", metrics=[\"accuracy\"])\n",
    "fit_model_A3 = nn_A3.fit(\n",
    "    X_train_scaled_n, \n",
    "    y_train, \n",
    "    epochs=50,\n",
    "    validation_data=(X_test_scaled_n, y_test)\n",
    ")"
   ]
  },
  {
   "cell_type": "code",
   "execution_count": 350,
   "metadata": {},
   "outputs": [
    {
     "data": {
      "image/png": "[encoded data removed]",
      "text/plain": [
       "<Figure size 432x288 with 1 Axes>"
      ]
     },
     "metadata": {
      "needs_background": "light"
     },
     "output_type": "display_data"
    }
   ],
   "source": [
    "# Plot loss function for A3 model\n",
    "plt.plot(fit_model_A3.history['loss'])\n",
    "plt.plot(fit_model_A3.history['val_loss'])\n",
    "plt.title('Loss function for A3 Model')\n",
    "plt.ylabel('Loss')\n",
    "plt.xlabel('Epoch')\n",
    "plt.legend(['Train', 'Test/Validation'])                                    \n",
    "plt.show()"
   ]
  },
  {
   "cell_type": "code",
   "execution_count": 351,
   "metadata": {},
   "outputs": [
    {
     "data": {
      "image/png": "[encoded data removed]",
      "text/plain": [
       "<Figure size 432x288 with 1 Axes>"
      ]
     },
     "metadata": {
      "needs_background": "light"
     },
     "output_type": "display_data"
    }
   ],
   "source": [
    "# Plot accuracy metric for A3 model\n",
    "\n",
    "plt.plot(fit_model_A3.history['accuracy'])\n",
    "plt.plot(fit_model_A3.history['val_accuracy'])\n",
    "plt.title('Accuracy for A2 Model')\n",
    "plt.ylabel('Accuracy')\n",
    "plt.xlabel('Epoch')\n",
    "plt.legend(['Train', 'Test/Validation'])                                 \n",
    "plt.show()"
   ]
  },
  {
   "cell_type": "code",
   "execution_count": 352,
   "metadata": {},
   "outputs": [
    {
     "name": "stdout",
     "output_type": "stream",
     "text": [
      "Alternative Model 3 Results\n",
      "268/268 - 1s - loss: 0.5555 - accuracy: 0.7335 - 504ms/epoch - 2ms/step\n",
      "Loss: 0.5554549098014832, Accuracy: 0.7335277199745178\n"
     ]
    }
   ],
   "source": [
    "print(\"Alternative Model 3 Results\")\n",
    "\n",
    "# Evaluate the model loss and accuracy metrics using the evaluate method and the test data\n",
    "model_loss, model_accuracy = nn_A3.evaluate(X_test_scaled_n,y_test,verbose=2)\n",
    "\n",
    "# Display the model loss and accuracy results\n",
    "print(f\"Loss: {model_loss}, Accuracy: {model_accuracy}\")"
   ]
  },
  {
   "cell_type": "code",
   "execution_count": 354,
   "metadata": {},
   "outputs": [],
   "source": [
    "# Set the file path for the second alternative model\n",
    "file_path = Path(\"./Resources/AlphabetSoupA3.h5\")\n",
    "\n",
    "# Export your model to a HDF5 file\n",
    "# YOUR CODE HERE\n",
    "nn_A3.save(file_path)"
   ]
  },
  {
   "cell_type": "code",
   "execution_count": null,
   "metadata": {},
   "outputs": [],
   "source": [
    "# Last alernative model has far less amount of neurons in hidden layers, however performance is similarly to that of original model and also similar to that of Aleternative 2.\n",
    "# However, accuracy of test and train data are fairly aligned in A3 compared to other models (in others they deviate a little)."
   ]
  }
 ],
 "metadata": {
  "kernelspec": {
   "display_name": "Python 3 (ipykernel)",
   "language": "python",
   "name": "python3"
  },
  "language_info": {
   "codemirror_mode": {
    "name": "ipython",
    "version": 3
   },
   "file_extension": ".py",
   "mimetype": "text/x-python",
   "name": "python",
   "nbconvert_exporter": "python",
   "pygments_lexer": "ipython3",
   "version": "3.7.13"
  }
 },
 "nbformat": 4,
 "nbformat_minor": 4
}
